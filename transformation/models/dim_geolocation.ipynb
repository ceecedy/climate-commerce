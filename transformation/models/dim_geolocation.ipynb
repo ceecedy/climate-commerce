{
 "cells": [
  {
   "cell_type": "code",
   "execution_count": 1,
   "id": "d8a0294d-e5bb-4a47-8efb-41ab1c69f595",
   "metadata": {},
   "outputs": [],
   "source": [
    "import os \n",
    "import duckdb\n",
    "from dotenv import load_dotenv"
   ]
  },
  {
   "cell_type": "code",
   "execution_count": 2,
   "id": "b5b14199-8fc4-44bd-af35-04797a651557",
   "metadata": {},
   "outputs": [],
   "source": [
    "# load the env paths \n",
    "load_dotenv()\n",
    "\n",
    "# setting the base path \n",
    "base_path = os.getenv('base_path')\n",
    "database = os.getenv('database_path')"
   ]
  },
  {
   "cell_type": "code",
   "execution_count": 3,
   "id": "84f99abe-bdd5-41f0-a2c6-4c7eea7c0a91",
   "metadata": {},
   "outputs": [],
   "source": [
    "# setting an in-memory database. \n",
    "databse_path = f\"{database}/database.db\"\n",
    "ddb = duckdb.connect(databse_path)"
   ]
  },
  {
   "cell_type": "code",
   "execution_count": 4,
   "id": "96d9f755-e0ea-41f3-b3b9-5fa888bfecc8",
   "metadata": {},
   "outputs": [
    {
     "data": {
      "text/plain": [
       "<duckdb.duckdb.DuckDBPyConnection at 0x1057493b0>"
      ]
     },
     "execution_count": 4,
     "metadata": {},
     "output_type": "execute_result"
    }
   ],
   "source": [
    "# ingest geolocation csv \n",
    "ddb.execute(\n",
    "    \"\"\"\n",
    "        CREATE TABLE IF NOT EXISTS dim_geolocation AS\n",
    "        SELECT \n",
    "            uuid() AS GeoLocId,\n",
    "            *\n",
    "        FROM \n",
    "            read_csv_auto(?);\n",
    "    \"\"\", \n",
    "    (f\"{base_path}/datasets/olist_geolocation_dataset.csv\",)\n",
    ")"
   ]
  },
  {
   "cell_type": "code",
   "execution_count": 5,
   "id": "96802670-bbfa-455f-9cb7-57c051ba0e3d",
   "metadata": {},
   "outputs": [],
   "source": [
    "# Renaming columns. \n",
    "ddb.sql(\n",
    "    '''\n",
    "        ALTER TABLE dim_geolocation \n",
    "        RENAME geolocation_zip_code_prefix TO GeoLocZipCodePrefix;\n",
    "    '''\n",
    ")\n",
    "\n",
    "ddb.sql(\n",
    "    '''\n",
    "        ALTER TABLE dim_geolocation \n",
    "        RENAME geolocation_lat TO GeoLocLat;\n",
    "    '''\n",
    ")\n",
    "\n",
    "ddb.sql(\n",
    "    '''\n",
    "        ALTER TABLE dim_geolocation \n",
    "        RENAME geolocation_lng TO GeoLocLng;\n",
    "    '''\n",
    ")\n",
    "\n",
    "ddb.sql(\n",
    "    '''\n",
    "        ALTER TABLE dim_geolocation \n",
    "        RENAME geolocation_city TO GeoLocCity;\n",
    "    '''\n",
    ")\n",
    "\n",
    "ddb.sql(\n",
    "    '''\n",
    "        ALTER TABLE dim_geolocation \n",
    "        RENAME geolocation_state TO GeoLocState;\n",
    "    '''\n",
    ")"
   ]
  },
  {
   "cell_type": "code",
   "execution_count": 7,
   "id": "83a490c3-2f61-4549-ac7e-4074398aa47e",
   "metadata": {},
   "outputs": [
    {
     "data": {
      "text/plain": [
       "┌──────────────────────────────────────┬─────────────────────┬─────────────────────┬─────────────────────┬────────────┬─────────────┐\n",
       "│               GeoLocId               │ GeoLocZipCodePrefix │      GeoLocLat      │      GeoLocLng      │ GeoLocCity │ GeoLocState │\n",
       "│                 uuid                 │       varchar       │       double        │       double        │  varchar   │   varchar   │\n",
       "├──────────────────────────────────────┼─────────────────────┼─────────────────────┼─────────────────────┼────────────┼─────────────┤\n",
       "│ 00014595-6534-4929-8518-beaa133b92b0 │ 01037               │  -23.54562128115268 │  -46.63929204800168 │ sao paulo  │ SP          │\n",
       "│ 8589ccd2-af29-4fb4-909c-5ce12c976616 │ 01046               │ -23.546081127035535 │  -46.64482029837157 │ sao paulo  │ SP          │\n",
       "│ f70af1db-18e0-4091-8b93-25c8bad59b52 │ 01046               │  -23.54612896641469 │  -46.64295148361138 │ sao paulo  │ SP          │\n",
       "│ 1b8662ba-32ad-4505-9ddb-601da8266e34 │ 01041               │   -23.5443921648681 │  -46.63949930627844 │ sao paulo  │ SP          │\n",
       "│ 5a1b60f9-9a65-4d3b-aefa-098b6c72a6d3 │ 01035               │ -23.541577961711493 │  -46.64160722329613 │ sao paulo  │ SP          │\n",
       "│ 527565bc-f67e-447f-8db0-45ccb1203644 │ 01012               │ -23.547762303364266 │  -46.63536053788448 │ são paulo  │ SP          │\n",
       "│ 31a49518-01b4-4233-8fa7-dc00f7753b09 │ 01047               │ -23.546273112412678 │  -46.64122516971552 │ sao paulo  │ SP          │\n",
       "│ e46c60c9-eb33-45b5-aacf-aa9c71fc188e │ 01013               │ -23.546923208436723 │   -46.6342636964915 │ sao paulo  │ SP          │\n",
       "│ 9fcae654-f3e4-4949-a671-84a9cca4046c │ 01029               │ -23.543769055769133 │  -46.63427784085132 │ sao paulo  │ SP          │\n",
       "│ 9b6c0271-ba14-4629-8866-8a97b7c1d6be │ 01011               │ -23.547639550320632 │  -46.63603162315495 │ sao paulo  │ SP          │\n",
       "│                  ·                   │   ·                 │          ·          │           ·         │     ·      │ ·           │\n",
       "│                  ·                   │   ·                 │          ·          │           ·         │     ·      │ ·           │\n",
       "│                  ·                   │   ·                 │          ·          │           ·         │     ·      │ ·           │\n",
       "│ 12645047-7d24-434d-a4e6-10b7f63bc3f3 │ 01307               │ -23.553589181776328 │  -46.65295348863168 │ são paulo  │ SP          │\n",
       "│ c29eee42-f2a1-4101-9772-2f6ccfa4b9ec │ 01317               │ -23.554133985636884 │ -46.638626176820445 │ sao paulo  │ SP          │\n",
       "│ 3cf1827e-764d-4bc0-9aaa-49dab9cc2fa7 │ 01322               │ -23.563631650845412 │ -46.644418560649726 │ sao paulo  │ SP          │\n",
       "│ 405f5f08-db27-4cfe-b993-6152d0267355 │ 01329               │ -23.562023395781637 │  -46.64772079141905 │ sao paulo  │ SP          │\n",
       "│ fb9b2bb6-2149-4ed0-8512-4c63bab17c6b │ 01314               │ -23.556570379969934 │  -46.64892887607479 │ sao paulo  │ SP          │\n",
       "│ 550bb392-1a1d-473e-895e-38f3a8e678ef │ 01319               │ -23.551121336112846 │ -46.641907063419694 │ sao paulo  │ SP          │\n",
       "│ 69bc12d0-e5eb-42ac-b56e-84b97170945e │ 01307               │ -23.553755821541888 │  -46.65316948972822 │ sao paulo  │ SP          │\n",
       "│ 870ab9e7-f189-4184-b07d-40991fe9d820 │ 01306               │  -23.55326696142303 │   -46.6509317529863 │ sao paulo  │ SP          │\n",
       "│ ba668bac-5254-4ed2-957b-d670c1da7ffb │ 01317               │ -23.554133985636884 │ -46.638626176820445 │ sao paulo  │ SP          │\n",
       "│ c5bbe805-7e52-4f3b-bd6b-d8bd1cfaf1f6 │ 01315               │ -23.552704121011015 │ -46.640620058283815 │ são paulo  │ SP          │\n",
       "├──────────────────────────────────────┴─────────────────────┴─────────────────────┴─────────────────────┴────────────┴─────────────┤\n",
       "│ ? rows (>9999 rows, 20 shown)                                                                                           6 columns │\n",
       "└───────────────────────────────────────────────────────────────────────────────────────────────────────────────────────────────────┘"
      ]
     },
     "execution_count": 7,
     "metadata": {},
     "output_type": "execute_result"
    }
   ],
   "source": [
    "ddb.sql(\n",
    "    '''\n",
    "        SELECT *\n",
    "        FROM dim_geolocation;\n",
    "    '''\n",
    ")"
   ]
  },
  {
   "cell_type": "code",
   "execution_count": 8,
   "id": "d61d5e8b-aa70-43ba-8298-94206750f431",
   "metadata": {},
   "outputs": [
    {
     "data": {
      "text/plain": [
       "┌────────────┬───────────────────────────┬─────────────────┬─────────────────┬────────────┬─────────────┐\n",
       "│ total_rows │ GeoLocZipCodePrefix_nulls │ GeoLocLat_nulls │ GeoLocLng_nulls │ GeoLocCity │ GeoLocState │\n",
       "│   int64    │           int64           │      int64      │      int64      │   int64    │    int64    │\n",
       "├────────────┼───────────────────────────┼─────────────────┼─────────────────┼────────────┼─────────────┤\n",
       "│    1000163 │                         0 │               0 │               0 │          0 │           0 │\n",
       "└────────────┴───────────────────────────┴─────────────────┴─────────────────┴────────────┴─────────────┘"
      ]
     },
     "execution_count": 8,
     "metadata": {},
     "output_type": "execute_result"
    }
   ],
   "source": [
    "# Checking the table, clean and ensure its integrity - check null values\n",
    "ddb.sql(\n",
    "    '''\n",
    "        SELECT\n",
    "            COUNT(*) AS total_rows,\n",
    "            COUNT(CASE WHEN GeoLocZipCodePrefix IS NULL THEN 1 END) AS GeoLocZipCodePrefix_nulls,\n",
    "            COUNT(CASE WHEN GeoLocLat IS NULL THEN 1 END) AS GeoLocLat_nulls,\n",
    "            COUNT(CASE WHEN GeoLocLng IS NULL THEN 1 END) AS GeoLocLng_nulls,\n",
    "            COUNT(CASE WHEN GeoLocCity IS NULL THEN 1 END) AS GeoLocCity,\n",
    "            COUNT(CASE WHEN GeoLocState IS NULL THEN 1 END) AS GeoLocState,\n",
    "        FROM \n",
    "            dim_geolocation;\n",
    "    '''\n",
    ")"
   ]
  },
  {
   "cell_type": "code",
   "execution_count": 9,
   "id": "2f95445a-4771-4283-974f-16afc2bf26e3",
   "metadata": {},
   "outputs": [
    {
     "data": {
      "text/plain": [
       "┌─────────────────────┬───────────┐\n",
       "│     column_name     │ data_type │\n",
       "│       varchar       │  varchar  │\n",
       "├─────────────────────┼───────────┤\n",
       "│ GeoLocId            │ UUID      │\n",
       "│ GeoLocZipCodePrefix │ VARCHAR   │\n",
       "│ GeoLocLat           │ DOUBLE    │\n",
       "│ GeoLocLng           │ DOUBLE    │\n",
       "│ GeoLocCity          │ VARCHAR   │\n",
       "│ GeoLocState         │ VARCHAR   │\n",
       "└─────────────────────┴───────────┘"
      ]
     },
     "execution_count": 9,
     "metadata": {},
     "output_type": "execute_result"
    }
   ],
   "source": [
    "# Checking the table, clean and ensure its integrity - ensuring data quality and integrity\n",
    "ddb.sql(\n",
    "    '''\n",
    "        SELECT column_name, data_type\n",
    "        FROM information_schema.columns\n",
    "        WHERE table_name = 'dim_geolocation';\n",
    "    '''\n",
    ")"
   ]
  },
  {
   "cell_type": "code",
   "execution_count": 10,
   "id": "d32ffa6a-a868-4c72-a8d3-52be87035c3f",
   "metadata": {},
   "outputs": [],
   "source": [
    "# Checking and changing the datatypes of the dim_customers table to its appropriate data \n",
    "# 1. Add a new column with the correct type\n",
    "ddb.sql('''\n",
    "    ALTER TABLE dim_geolocation\n",
    "    ALTER COLUMN GeoLocZipCodePrefix SET DATA TYPE INT;\n",
    "''')"
   ]
  },
  {
   "cell_type": "code",
   "execution_count": 11,
   "id": "735aa263-ebb5-4be6-8037-c9e11d9b7218",
   "metadata": {},
   "outputs": [
    {
     "name": "stdout",
     "output_type": "stream",
     "text": [
      "Data successfully exported to /Users/macintoshcider/Documents/Programming/Python/ETL/climate-commerce/analytics/dim_geolocation.csv\n"
     ]
    }
   ],
   "source": [
    "# Define the output directory and ensure it exists\n",
    "output_dir = \"/Users/macintoshcider/Documents/Programming/Python/ETL/climate-commerce/analytics\"\n",
    "output_file = os.path.join(output_dir, \"dim_geolocation.csv\")\n",
    "ddb.execute(\n",
    "    f\"\"\"\n",
    "        COPY dim_geolocation TO '{output_file}' (FORMAT CSV, HEADER);\n",
    "    \"\"\"\n",
    ")\n",
    "print(f\"Data successfully exported to {output_file}\")"
   ]
  },
  {
   "cell_type": "code",
   "execution_count": 12,
   "id": "0063aeb3-e028-4d12-8b31-499735429247",
   "metadata": {},
   "outputs": [],
   "source": [
    "# finally close the database connection. \n",
    "ddb.close()"
   ]
  },
  {
   "cell_type": "code",
   "execution_count": null,
   "id": "11aac880-bd24-45f2-884c-b39d0c844e25",
   "metadata": {},
   "outputs": [],
   "source": []
  }
 ],
 "metadata": {
  "kernelspec": {
   "display_name": "Python 3 (ipykernel)",
   "language": "python",
   "name": "python3"
  },
  "language_info": {
   "codemirror_mode": {
    "name": "ipython",
    "version": 3
   },
   "file_extension": ".py",
   "mimetype": "text/x-python",
   "name": "python",
   "nbconvert_exporter": "python",
   "pygments_lexer": "ipython3",
   "version": "3.11.9"
  }
 },
 "nbformat": 4,
 "nbformat_minor": 5
}

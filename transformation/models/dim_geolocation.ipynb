{
 "cells": [
  {
   "cell_type": "code",
   "execution_count": null,
   "id": "d8a0294d-e5bb-4a47-8efb-41ab1c69f595",
   "metadata": {},
   "outputs": [],
   "source": [
    "import os \n",
    "import duckdb\n",
    "from dotenv import load_dotenv"
   ]
  },
  {
   "cell_type": "code",
   "execution_count": null,
   "id": "b5b14199-8fc4-44bd-af35-04797a651557",
   "metadata": {},
   "outputs": [],
   "source": [
    "# setting the base path \n",
    "base_path = os.getenv('base_path')\n",
    "database = os.getenv('database_path')"
   ]
  },
  {
   "cell_type": "code",
   "execution_count": 3,
   "id": "84f99abe-bdd5-41f0-a2c6-4c7eea7c0a91",
   "metadata": {},
   "outputs": [],
   "source": [
    "# setting an in-memory database. \n",
    "ddb = duckdb.connect(f\"{database}/database.db\")"
   ]
  },
  {
   "cell_type": "code",
   "execution_count": 4,
   "id": "96d9f755-e0ea-41f3-b3b9-5fa888bfecc8",
   "metadata": {},
   "outputs": [
    {
     "data": {
      "text/plain": [
       "<duckdb.duckdb.DuckDBPyConnection at 0x105d48430>"
      ]
     },
     "execution_count": 4,
     "metadata": {},
     "output_type": "execute_result"
    }
   ],
   "source": [
    "# ingest geolocation csv \n",
    "ddb.execute(\n",
    "    \"\"\"\n",
    "        CREATE TABLE IF NOT EXISTS geoloc_table AS\n",
    "        SELECT \n",
    "            *\n",
    "        FROM \n",
    "            read_csv_auto(?);\n",
    "    \"\"\", \n",
    "    (f\"{base_path}/datasets/olist_geolocation_dataset.csv\",)\n",
    ")"
   ]
  },
  {
   "cell_type": "code",
   "execution_count": 5,
   "id": "96802670-bbfa-455f-9cb7-57c051ba0e3d",
   "metadata": {},
   "outputs": [
    {
     "ename": "BinderException",
     "evalue": "Binder Error: Table \"geoloc_table\" does not have a column with name \"geolocation_zip_code_prefix\"",
     "output_type": "error",
     "traceback": [
      "\u001b[0;31m---------------------------------------------------------------------------\u001b[0m",
      "\u001b[0;31mBinderException\u001b[0m                           Traceback (most recent call last)",
      "Cell \u001b[0;32mIn[5], line 2\u001b[0m\n\u001b[1;32m      1\u001b[0m \u001b[38;5;66;03m# Renaming columns. \u001b[39;00m\n\u001b[0;32m----> 2\u001b[0m \u001b[43mddb\u001b[49m\u001b[38;5;241;43m.\u001b[39;49m\u001b[43msql\u001b[49m\u001b[43m(\u001b[49m\n\u001b[1;32m      3\u001b[0m \u001b[38;5;250;43m    \u001b[39;49m\u001b[38;5;124;43;03m'''\u001b[39;49;00m\n\u001b[1;32m      4\u001b[0m \u001b[38;5;124;43;03m        ALTER TABLE geoloc_table \u001b[39;49;00m\n\u001b[1;32m      5\u001b[0m \u001b[38;5;124;43;03m        RENAME geolocation_zip_code_prefix TO GeoLocZipCodePrefix;\u001b[39;49;00m\n\u001b[1;32m      6\u001b[0m \u001b[38;5;124;43;03m    '''\u001b[39;49;00m\n\u001b[1;32m      7\u001b[0m \u001b[43m)\u001b[49m\n\u001b[1;32m      9\u001b[0m ddb\u001b[38;5;241m.\u001b[39msql(\n\u001b[1;32m     10\u001b[0m \u001b[38;5;250m    \u001b[39m\u001b[38;5;124;03m'''\u001b[39;00m\n\u001b[1;32m     11\u001b[0m \u001b[38;5;124;03m        ALTER TABLE geoloc_table \u001b[39;00m\n\u001b[1;32m     12\u001b[0m \u001b[38;5;124;03m        RENAME geolocation_lat TO GeoLocLat;\u001b[39;00m\n\u001b[1;32m     13\u001b[0m \u001b[38;5;124;03m    '''\u001b[39;00m\n\u001b[1;32m     14\u001b[0m )\n\u001b[1;32m     16\u001b[0m ddb\u001b[38;5;241m.\u001b[39msql(\n\u001b[1;32m     17\u001b[0m \u001b[38;5;250m    \u001b[39m\u001b[38;5;124;03m'''\u001b[39;00m\n\u001b[1;32m     18\u001b[0m \u001b[38;5;124;03m        ALTER TABLE geoloc_table \u001b[39;00m\n\u001b[1;32m     19\u001b[0m \u001b[38;5;124;03m        RENAME geolocation_lng TO GeoLocLng;\u001b[39;00m\n\u001b[1;32m     20\u001b[0m \u001b[38;5;124;03m    '''\u001b[39;00m\n\u001b[1;32m     21\u001b[0m )\n",
      "\u001b[0;31mBinderException\u001b[0m: Binder Error: Table \"geoloc_table\" does not have a column with name \"geolocation_zip_code_prefix\""
     ]
    }
   ],
   "source": [
    "# Renaming columns. \n",
    "ddb.sql(\n",
    "    '''\n",
    "        ALTER TABLE geoloc_table \n",
    "        RENAME geolocation_zip_code_prefix TO GeoLocZipCodePrefix;\n",
    "    '''\n",
    ")\n",
    "\n",
    "ddb.sql(\n",
    "    '''\n",
    "        ALTER TABLE geoloc_table \n",
    "        RENAME geolocation_lat TO GeoLocLat;\n",
    "    '''\n",
    ")\n",
    "\n",
    "ddb.sql(\n",
    "    '''\n",
    "        ALTER TABLE geoloc_table \n",
    "        RENAME geolocation_lng TO GeoLocLng;\n",
    "    '''\n",
    ")\n",
    "\n",
    "ddb.sql(\n",
    "    '''\n",
    "        ALTER TABLE geoloc_table \n",
    "        RENAME geolocation_city TO GeoLocCity;\n",
    "    '''\n",
    ")\n",
    "\n",
    "ddb.sql(\n",
    "    '''\n",
    "        ALTER TABLE geoloc_table \n",
    "        RENAME geolocation_state TO GeoLocState;\n",
    "    '''\n",
    ")"
   ]
  },
  {
   "cell_type": "code",
   "execution_count": 6,
   "id": "83a490c3-2f61-4549-ac7e-4074398aa47e",
   "metadata": {},
   "outputs": [
    {
     "data": {
      "text/plain": [
       "┌─────────────────────┬─────────────────────┬─────────────────────┬────────────┬─────────────┐\n",
       "│ GeoLocZipCodePrefix │      GeoLocLat      │      GeoLocLng      │ GeoLocCity │ GeoLocState │\n",
       "│       varchar       │       double        │       double        │  varchar   │   varchar   │\n",
       "├─────────────────────┼─────────────────────┼─────────────────────┼────────────┼─────────────┤\n",
       "│ 01037               │  -23.54562128115268 │  -46.63929204800168 │ sao paulo  │ SP          │\n",
       "│ 01046               │ -23.546081127035535 │  -46.64482029837157 │ sao paulo  │ SP          │\n",
       "│ 01046               │  -23.54612896641469 │  -46.64295148361138 │ sao paulo  │ SP          │\n",
       "│ 01041               │   -23.5443921648681 │  -46.63949930627844 │ sao paulo  │ SP          │\n",
       "│ 01035               │ -23.541577961711493 │  -46.64160722329613 │ sao paulo  │ SP          │\n",
       "│ 01012               │ -23.547762303364266 │  -46.63536053788448 │ são paulo  │ SP          │\n",
       "│ 01047               │ -23.546273112412678 │  -46.64122516971552 │ sao paulo  │ SP          │\n",
       "│ 01013               │ -23.546923208436723 │   -46.6342636964915 │ sao paulo  │ SP          │\n",
       "│ 01029               │ -23.543769055769133 │  -46.63427784085132 │ sao paulo  │ SP          │\n",
       "│ 01011               │ -23.547639550320632 │  -46.63603162315495 │ sao paulo  │ SP          │\n",
       "│   ·                 │          ·          │           ·         │     ·      │ ·           │\n",
       "│   ·                 │          ·          │           ·         │     ·      │ ·           │\n",
       "│   ·                 │          ·          │           ·         │     ·      │ ·           │\n",
       "│ 01307               │ -23.553589181776328 │  -46.65295348863168 │ são paulo  │ SP          │\n",
       "│ 01317               │ -23.554133985636884 │ -46.638626176820445 │ sao paulo  │ SP          │\n",
       "│ 01322               │ -23.563631650845412 │ -46.644418560649726 │ sao paulo  │ SP          │\n",
       "│ 01329               │ -23.562023395781637 │  -46.64772079141905 │ sao paulo  │ SP          │\n",
       "│ 01314               │ -23.556570379969934 │  -46.64892887607479 │ sao paulo  │ SP          │\n",
       "│ 01319               │ -23.551121336112846 │ -46.641907063419694 │ sao paulo  │ SP          │\n",
       "│ 01307               │ -23.553755821541888 │  -46.65316948972822 │ sao paulo  │ SP          │\n",
       "│ 01306               │  -23.55326696142303 │   -46.6509317529863 │ sao paulo  │ SP          │\n",
       "│ 01317               │ -23.554133985636884 │ -46.638626176820445 │ sao paulo  │ SP          │\n",
       "│ 01315               │ -23.552704121011015 │ -46.640620058283815 │ são paulo  │ SP          │\n",
       "├─────────────────────┴─────────────────────┴─────────────────────┴────────────┴─────────────┤\n",
       "│ ? rows (>9999 rows, 20 shown)                                                    5 columns │\n",
       "└────────────────────────────────────────────────────────────────────────────────────────────┘"
      ]
     },
     "execution_count": 6,
     "metadata": {},
     "output_type": "execute_result"
    }
   ],
   "source": [
    "ddb.sql(\n",
    "    '''\n",
    "        SELECT *\n",
    "        FROM geoloc_table;\n",
    "    '''\n",
    ")"
   ]
  },
  {
   "cell_type": "code",
   "execution_count": 7,
   "id": "d61d5e8b-aa70-43ba-8298-94206750f431",
   "metadata": {},
   "outputs": [
    {
     "data": {
      "text/plain": [
       "┌────────────┬───────────────────────────┬─────────────────┬─────────────────┬────────────┬─────────────┐\n",
       "│ total_rows │ GeoLocZipCodePrefix_nulls │ GeoLocLat_nulls │ GeoLocLng_nulls │ GeoLocCity │ GeoLocState │\n",
       "│   int64    │           int64           │      int64      │      int64      │   int64    │    int64    │\n",
       "├────────────┼───────────────────────────┼─────────────────┼─────────────────┼────────────┼─────────────┤\n",
       "│    1000163 │                         0 │               0 │               0 │          0 │           0 │\n",
       "└────────────┴───────────────────────────┴─────────────────┴─────────────────┴────────────┴─────────────┘"
      ]
     },
     "execution_count": 7,
     "metadata": {},
     "output_type": "execute_result"
    }
   ],
   "source": [
    "# Checking the table, clean and ensure its integrity - check null values\n",
    "ddb.sql(\n",
    "    '''\n",
    "        SELECT\n",
    "            COUNT(*) AS total_rows,\n",
    "            COUNT(CASE WHEN GeoLocZipCodePrefix IS NULL THEN 1 END) AS GeoLocZipCodePrefix_nulls,\n",
    "            COUNT(CASE WHEN GeoLocLat IS NULL THEN 1 END) AS GeoLocLat_nulls,\n",
    "            COUNT(CASE WHEN GeoLocLng IS NULL THEN 1 END) AS GeoLocLng_nulls,\n",
    "            COUNT(CASE WHEN GeoLocCity IS NULL THEN 1 END) AS GeoLocCity,\n",
    "            COUNT(CASE WHEN GeoLocState IS NULL THEN 1 END) AS GeoLocState,\n",
    "        FROM \n",
    "            geoloc_table\n",
    "    '''\n",
    ")"
   ]
  },
  {
   "cell_type": "code",
   "execution_count": 8,
   "id": "2f95445a-4771-4283-974f-16afc2bf26e3",
   "metadata": {},
   "outputs": [
    {
     "data": {
      "text/plain": [
       "┌─────────────────────┬─────────────────────┬─────────────────────┬────────────┬─────────────┐\n",
       "│ GeoLocZipCodePrefix │      GeoLocLat      │      GeoLocLng      │ GeoLocCity │ GeoLocState │\n",
       "│        int32        │       double        │       double        │  varchar   │   varchar   │\n",
       "├─────────────────────┼─────────────────────┼─────────────────────┼────────────┼─────────────┤\n",
       "│                1037 │  -23.54562128115268 │  -46.63929204800168 │ sao paulo  │ SP          │\n",
       "│                1046 │ -23.546081127035535 │  -46.64482029837157 │ sao paulo  │ SP          │\n",
       "│                1046 │  -23.54612896641469 │  -46.64295148361138 │ sao paulo  │ SP          │\n",
       "│                1041 │   -23.5443921648681 │  -46.63949930627844 │ sao paulo  │ SP          │\n",
       "│                1035 │ -23.541577961711493 │  -46.64160722329613 │ sao paulo  │ SP          │\n",
       "│                1012 │ -23.547762303364266 │  -46.63536053788448 │ são paulo  │ SP          │\n",
       "│                1047 │ -23.546273112412678 │  -46.64122516971552 │ sao paulo  │ SP          │\n",
       "│                1013 │ -23.546923208436723 │   -46.6342636964915 │ sao paulo  │ SP          │\n",
       "│                1029 │ -23.543769055769133 │  -46.63427784085132 │ sao paulo  │ SP          │\n",
       "│                1011 │ -23.547639550320632 │  -46.63603162315495 │ sao paulo  │ SP          │\n",
       "│                  ·  │          ·          │           ·         │     ·      │ ·           │\n",
       "│                  ·  │          ·          │           ·         │     ·      │ ·           │\n",
       "│                  ·  │          ·          │           ·         │     ·      │ ·           │\n",
       "│                1307 │ -23.553589181776328 │  -46.65295348863168 │ são paulo  │ SP          │\n",
       "│                1317 │ -23.554133985636884 │ -46.638626176820445 │ sao paulo  │ SP          │\n",
       "│                1322 │ -23.563631650845412 │ -46.644418560649726 │ sao paulo  │ SP          │\n",
       "│                1329 │ -23.562023395781637 │  -46.64772079141905 │ sao paulo  │ SP          │\n",
       "│                1314 │ -23.556570379969934 │  -46.64892887607479 │ sao paulo  │ SP          │\n",
       "│                1319 │ -23.551121336112846 │ -46.641907063419694 │ sao paulo  │ SP          │\n",
       "│                1307 │ -23.553755821541888 │  -46.65316948972822 │ sao paulo  │ SP          │\n",
       "│                1306 │  -23.55326696142303 │   -46.6509317529863 │ sao paulo  │ SP          │\n",
       "│                1317 │ -23.554133985636884 │ -46.638626176820445 │ sao paulo  │ SP          │\n",
       "│                1315 │ -23.552704121011015 │ -46.640620058283815 │ são paulo  │ SP          │\n",
       "├─────────────────────┴─────────────────────┴─────────────────────┴────────────┴─────────────┤\n",
       "│ ? rows (>9999 rows, 20 shown)                                                    5 columns │\n",
       "└────────────────────────────────────────────────────────────────────────────────────────────┘"
      ]
     },
     "execution_count": 8,
     "metadata": {},
     "output_type": "execute_result"
    }
   ],
   "source": [
    "# Checking the table, clean and ensure its integrity - ensuring data quality and integrity\n",
    "ddb.sql(\n",
    "    '''\n",
    "        SELECT column_name, data_type\n",
    "        FROM information_schema.columns\n",
    "        WHERE table_name = 'geoloc_table';\n",
    "    '''\n",
    ")\n",
    "\n",
    "ddb.sql(\n",
    "    '''\n",
    "        SELECT \n",
    "            CAST(GeoLocZipCodePrefix AS INT) AS GeoLocZipCodePrefix,\n",
    "            CAST(GeoLocLat AS DOUBLE) AS GeoLocLat,\n",
    "            CAST(GeoLocLng AS DOUBLE) AS GeoLocLng,\n",
    "            CAST(GeoLocCity AS VARCHAR) AS GeoLocCity,\n",
    "            CAST(GeoLocState AS VARCHAR) AS GeoLocState,\n",
    "        FROM geoloc_table;\n",
    "    '''\n",
    ")"
   ]
  },
  {
   "cell_type": "code",
   "execution_count": 9,
   "id": "d32ffa6a-a868-4c72-a8d3-52be87035c3f",
   "metadata": {},
   "outputs": [
    {
     "data": {
      "text/plain": [
       "┌─────────────────────┬─────────────────────┬─────────────────────┬────────────┬─────────────┐\n",
       "│ GeoLocZipCodePrefix │      GeoLocLat      │      GeoLocLng      │ GeoLocCity │ GeoLocState │\n",
       "│       varchar       │       double        │       double        │  varchar   │   varchar   │\n",
       "├─────────────────────┼─────────────────────┼─────────────────────┼────────────┼─────────────┤\n",
       "│ 01037               │  -23.54562128115268 │  -46.63929204800168 │ sao paulo  │ SP          │\n",
       "│ 01046               │ -23.546081127035535 │  -46.64482029837157 │ sao paulo  │ SP          │\n",
       "│ 01046               │  -23.54612896641469 │  -46.64295148361138 │ sao paulo  │ SP          │\n",
       "│ 01041               │   -23.5443921648681 │  -46.63949930627844 │ sao paulo  │ SP          │\n",
       "│ 01035               │ -23.541577961711493 │  -46.64160722329613 │ sao paulo  │ SP          │\n",
       "│ 01012               │ -23.547762303364266 │  -46.63536053788448 │ são paulo  │ SP          │\n",
       "│ 01047               │ -23.546273112412678 │  -46.64122516971552 │ sao paulo  │ SP          │\n",
       "│ 01013               │ -23.546923208436723 │   -46.6342636964915 │ sao paulo  │ SP          │\n",
       "│ 01029               │ -23.543769055769133 │  -46.63427784085132 │ sao paulo  │ SP          │\n",
       "│ 01011               │ -23.547639550320632 │  -46.63603162315495 │ sao paulo  │ SP          │\n",
       "│   ·                 │          ·          │           ·         │     ·      │ ·           │\n",
       "│   ·                 │          ·          │           ·         │     ·      │ ·           │\n",
       "│   ·                 │          ·          │           ·         │     ·      │ ·           │\n",
       "│ 01307               │ -23.553589181776328 │  -46.65295348863168 │ são paulo  │ SP          │\n",
       "│ 01317               │ -23.554133985636884 │ -46.638626176820445 │ sao paulo  │ SP          │\n",
       "│ 01322               │ -23.563631650845412 │ -46.644418560649726 │ sao paulo  │ SP          │\n",
       "│ 01329               │ -23.562023395781637 │  -46.64772079141905 │ sao paulo  │ SP          │\n",
       "│ 01314               │ -23.556570379969934 │  -46.64892887607479 │ sao paulo  │ SP          │\n",
       "│ 01319               │ -23.551121336112846 │ -46.641907063419694 │ sao paulo  │ SP          │\n",
       "│ 01307               │ -23.553755821541888 │  -46.65316948972822 │ sao paulo  │ SP          │\n",
       "│ 01306               │  -23.55326696142303 │   -46.6509317529863 │ sao paulo  │ SP          │\n",
       "│ 01317               │ -23.554133985636884 │ -46.638626176820445 │ sao paulo  │ SP          │\n",
       "│ 01315               │ -23.552704121011015 │ -46.640620058283815 │ são paulo  │ SP          │\n",
       "├─────────────────────┴─────────────────────┴─────────────────────┴────────────┴─────────────┤\n",
       "│ ? rows (>9999 rows, 20 shown)                                                    5 columns │\n",
       "└────────────────────────────────────────────────────────────────────────────────────────────┘"
      ]
     },
     "execution_count": 9,
     "metadata": {},
     "output_type": "execute_result"
    }
   ],
   "source": [
    "ddb.sql(\n",
    "    '''\n",
    "        SELECT *\n",
    "        FROM geoloc_table;\n",
    "    '''\n",
    ")"
   ]
  },
  {
   "cell_type": "code",
   "execution_count": 15,
   "id": "735aa263-ebb5-4be6-8037-c9e11d9b7218",
   "metadata": {},
   "outputs": [
    {
     "name": "stdout",
     "output_type": "stream",
     "text": [
      "Data successfully exported to /Users/macintoshcider/Documents/Programming/Python/ETL/climate-commerce/analytics/dim_geolocation.csv\n"
     ]
    }
   ],
   "source": [
    "# Define the output directory and ensure it exists\n",
    "output_dir = \"/Users/macintoshcider/Documents/Programming/Python/ETL/climate-commerce/analytics\"\n",
    "output_file = os.path.join(output_dir, \"dim_geolocation.csv\")\n",
    "ddb.execute(\n",
    "    f\"\"\"\n",
    "        COPY geoloc_table TO '{output_file}' (FORMAT CSV, HEADER);\n",
    "    \"\"\"\n",
    ")\n",
    "print(f\"Data successfully exported to {output_file}\")"
   ]
  },
  {
   "cell_type": "code",
   "execution_count": null,
   "id": "1548e315-bf31-4b0e-ba2e-ca7eca6e2c05",
   "metadata": {},
   "outputs": [],
   "source": []
  }
 ],
 "metadata": {
  "kernelspec": {
   "display_name": "Python 3 (ipykernel)",
   "language": "python",
   "name": "python3"
  },
  "language_info": {
   "codemirror_mode": {
    "name": "ipython",
    "version": 3
   },
   "file_extension": ".py",
   "mimetype": "text/x-python",
   "name": "python",
   "nbconvert_exporter": "python",
   "pygments_lexer": "ipython3",
   "version": "3.11.9"
  }
 },
 "nbformat": 4,
 "nbformat_minor": 5
}

{
 "cells": [
  {
   "cell_type": "code",
   "execution_count": 17,
   "id": "99e07d8d-3909-4509-b235-1d8bb4fce2dd",
   "metadata": {},
   "outputs": [],
   "source": [
    "import os \n",
    "import duckdb \n",
    "from dotenv import load_dotenv"
   ]
  },
  {
   "cell_type": "code",
   "execution_count": 18,
   "id": "154706fe-fec0-43e9-8d84-fcb0d983c91e",
   "metadata": {},
   "outputs": [],
   "source": [
    "# instantiate the load_dotenv to load the env files \n",
    "load_dotenv()\n",
    "\n",
    "# setup the paths needed \n",
    "base_path = os.getenv('base_path')\n",
    "database = os.getenv('database_path')"
   ]
  },
  {
   "cell_type": "code",
   "execution_count": 19,
   "id": "e1acdf69-fee7-4e6b-8b6f-08f38decc7dc",
   "metadata": {},
   "outputs": [],
   "source": [
    "# setup the database specific file\n",
    "database_path = f\"{database}/database.db\"\n",
    "\n",
    "# load the database \n",
    "ddb = duckdb.connect(database_path)"
   ]
  },
  {
   "cell_type": "code",
   "execution_count": 20,
   "id": "cba8f8d9-5888-47c1-b699-211410730e19",
   "metadata": {},
   "outputs": [
    {
     "data": {
      "text/plain": [
       "<duckdb.duckdb.DuckDBPyConnection at 0x10e5437f0>"
      ]
     },
     "execution_count": 20,
     "metadata": {},
     "output_type": "execute_result"
    }
   ],
   "source": [
    "# ingest the payments data and form its relationships if any \n",
    "ddb.execute(\n",
    "    '''\n",
    "        CREATE TABLE IF NOT EXISTS dim_payments AS \n",
    "        SELECT \n",
    "            *\n",
    "        FROM \n",
    "            read_csv_auto(?);\n",
    "    ''',\n",
    "    (f\"{base_path}/datasets/olist_order_payments_dataset.csv\",)\n",
    ")"
   ]
  },
  {
   "cell_type": "code",
   "execution_count": 26,
   "id": "a00928c0-8f3f-4d32-87a4-b0c0797369e3",
   "metadata": {},
   "outputs": [
    {
     "data": {
      "text/plain": [
       "┌──────────────────────────────────┬───────────────────┬─────────────┬─────────────────────┬─────────┐\n",
       "│             OrderId              │ PaymentSequential │ PaymentType │ PaymentInstallments │ Payment │\n",
       "│             varchar              │       int64       │   varchar   │        int64        │ double  │\n",
       "├──────────────────────────────────┼───────────────────┼─────────────┼─────────────────────┼─────────┤\n",
       "│ b81ef226f3fe1789b1e8b2acac839d17 │                 1 │ credit_card │                   8 │   99.33 │\n",
       "│ a9810da82917af2d9aefd1278f1dcfa0 │                 1 │ credit_card │                   1 │   24.39 │\n",
       "│ 25e8ea4e93396b6fa0d3dd708e76c1bd │                 1 │ credit_card │                   1 │   65.71 │\n",
       "│ ba78997921bbcdc1373bb41e913ab953 │                 1 │ credit_card │                   8 │  107.78 │\n",
       "│ 42fdf880ba16b47b59251dd489d4441a │                 1 │ credit_card │                   2 │  128.45 │\n",
       "│ 298fcdf1f73eb413e4d26d01b25bc1cd │                 1 │ credit_card │                   2 │   96.12 │\n",
       "│ 771ee386b001f06208a7419e4fc1bbd7 │                 1 │ credit_card │                   1 │   81.16 │\n",
       "│ 3d7239c394a212faae122962df514ac7 │                 1 │ credit_card │                   3 │   51.84 │\n",
       "│ 1f78449c87a54faf9e96e88ba1491fa9 │                 1 │ credit_card │                   6 │  341.09 │\n",
       "│ 0573b5e23cbd798006520e1d5b4c6714 │                 1 │ boleto      │                   1 │   51.95 │\n",
       "│                ·                 │                 · │   ·         │                   · │     ·   │\n",
       "│                ·                 │                 · │   ·         │                   · │     ·   │\n",
       "│                ·                 │                 · │   ·         │                   · │     ·   │\n",
       "│ 4269e9f98b1e74f0732bc93de6aaca6f │                 1 │ credit_card │                   8 │  331.21 │\n",
       "│ a0d31fc7018373aa3c492734af6f5d41 │                 1 │ boleto      │                   1 │   40.88 │\n",
       "│ bddc45d741b0d84cbed088e1f1d47a81 │                 1 │ credit_card │                   8 │  177.28 │\n",
       "│ 731eb375d1d241e31221637ee6e5ef56 │                 1 │ credit_card │                   1 │   67.44 │\n",
       "│ 457ade8093de88b42998c569334a7864 │                 1 │ credit_card │                  10 │  2616.0 │\n",
       "│ 38900cae2f3cfbbe4ceec4840cc1ab89 │                 1 │ credit_card │                   1 │  137.93 │\n",
       "│ 8c8a24bf308761df290a5503106a8ae3 │                 1 │ credit_card │                   1 │   47.38 │\n",
       "│ c38123fe01a5d1757b545ecfccb89c0d │                 1 │ credit_card │                   2 │  138.48 │\n",
       "│ b3096cede7bf1dd20ff6607c7ee786e7 │                 1 │ credit_card │                   2 │  134.08 │\n",
       "│ 9abcdeded6b253b59272fb76b83b1f6a │                 2 │ voucher     │                   1 │   10.86 │\n",
       "├──────────────────────────────────┴───────────────────┴─────────────┴─────────────────────┴─────────┤\n",
       "│ ? rows (>9999 rows, 20 shown)                                                            5 columns │\n",
       "└────────────────────────────────────────────────────────────────────────────────────────────────────┘"
      ]
     },
     "execution_count": 26,
     "metadata": {},
     "output_type": "execute_result"
    }
   ],
   "source": [
    "ddb.sql(\n",
    "    '''\n",
    "        SELECT *\n",
    "        FROM dim_payments;\n",
    "    '''\n",
    ")"
   ]
  },
  {
   "cell_type": "code",
   "execution_count": 31,
   "id": "a9bd6562-780a-46e8-9ed0-e1f3d2329285",
   "metadata": {},
   "outputs": [],
   "source": [
    "# renaming columns of the dim_payments to an appropriate column names \n",
    "ddb.sql(\n",
    "    '''\n",
    "        ALTER TABLE dim_payments \n",
    "        RENAME order_id TO OrderId;\n",
    "    '''\n",
    ")\n",
    "\n",
    "ddb.sql(\n",
    "    '''\n",
    "        ALTER TABLE dim_payments \n",
    "        RENAME payment_sequential TO PaymentSequential;\n",
    "    '''\n",
    ")\n",
    "\n",
    "ddb.sql(\n",
    "    '''\n",
    "        ALTER TABLE dim_payments \n",
    "        RENAME payment_type TO PaymentType;\n",
    "    '''\n",
    ")\n",
    "\n",
    "ddb.sql(\n",
    "    '''\n",
    "        ALTER TABLE dim_payments \n",
    "        RENAME payment_installments TO PaymentInstallments;\n",
    "    '''\n",
    ")\n",
    "\n",
    "ddb.sql(\n",
    "    '''\n",
    "        ALTER TABLE dim_payments \n",
    "        RENAME payment_value TO PaymentValue;\n",
    "    '''\n",
    ")"
   ]
  },
  {
   "cell_type": "code",
   "execution_count": 35,
   "id": "9249f5af-2465-402a-8073-cbf59b663666",
   "metadata": {},
   "outputs": [
    {
     "data": {
      "text/plain": [
       "┌─────────────────────┬───────────┐\n",
       "│     column_name     │ data_type │\n",
       "│       varchar       │  varchar  │\n",
       "├─────────────────────┼───────────┤\n",
       "│ OrderId             │ VARCHAR   │\n",
       "│ PaymentSequential   │ INTEGER   │\n",
       "│ PaymentType         │ VARCHAR   │\n",
       "│ PaymentInstallments │ INTEGER   │\n",
       "│ PaymentValue        │ DOUBLE    │\n",
       "└─────────────────────┴───────────┘"
      ]
     },
     "execution_count": 35,
     "metadata": {},
     "output_type": "execute_result"
    }
   ],
   "source": [
    "# checking the datatypes of every column in dim_payments\n",
    "ddb.sql(\n",
    "    '''\n",
    "        SELECT column_name, data_type\n",
    "        FROM information_schema.columns\n",
    "        WHERE table_name = 'dim_payments';\n",
    "    '''\n",
    ")"
   ]
  },
  {
   "cell_type": "code",
   "execution_count": 33,
   "id": "f9cb047d-24b4-47e2-a164-301cd85330a5",
   "metadata": {},
   "outputs": [
    {
     "data": {
      "text/plain": [
       "┌────────────┬─────────┬───────────────────┬─────────────┬─────────────────────┬──────────────┐\n",
       "│ total_rows │ OrderId │ PaymentSequential │ PaymentType │ PaymentInstallments │ PaymentValue │\n",
       "│   int64    │  int64  │       int64       │    int64    │        int64        │    int64     │\n",
       "├────────────┼─────────┼───────────────────┼─────────────┼─────────────────────┼──────────────┤\n",
       "│     103886 │       0 │                 0 │           0 │                   0 │            0 │\n",
       "└────────────┴─────────┴───────────────────┴─────────────┴─────────────────────┴──────────────┘"
      ]
     },
     "execution_count": 33,
     "metadata": {},
     "output_type": "execute_result"
    }
   ],
   "source": [
    "# Checking null values in dim_payments table \n",
    "ddb.sql(\n",
    "    '''\n",
    "        SELECT\n",
    "            COUNT(*) AS total_rows,\n",
    "            COUNT(CASE WHEN OrderId IS NULL THEN 1 END) AS OrderId,\n",
    "            COUNT(CASE WHEN PaymentSequential IS NULL THEN 1 END) AS PaymentSequential,\n",
    "            COUNT(CASE WHEN PaymentType IS NULL THEN 1 END) AS PaymentType,\n",
    "            COUNT(CASE WHEN PaymentInstallments IS NULL THEN 1 END) AS PaymentInstallments,\n",
    "            COUNT(CASE WHEN PaymentValue IS NULL THEN 1 END) AS PaymentValue,\n",
    "        FROM \n",
    "            dim_payments;\n",
    "    '''\n",
    ")"
   ]
  },
  {
   "cell_type": "code",
   "execution_count": 34,
   "id": "3b4f61ad-4766-4202-83ed-8f59843bb6f8",
   "metadata": {},
   "outputs": [],
   "source": [
    "# changing the datatype of payment sequential and payment installments \n",
    "ddb.sql(\n",
    "    '''\n",
    "        ALTER TABLE dim_payments \n",
    "        ALTER COLUMN PaymentSequential SET DATA TYPE INT;\n",
    "    '''\n",
    ")\n",
    "\n",
    "ddb.sql(\n",
    "    '''\n",
    "        ALTER TABLE dim_payments \n",
    "        ALTER COLUMN PaymentInstallments SET DATA TYPE INT;\n",
    "    '''\n",
    ")"
   ]
  },
  {
   "cell_type": "code",
   "execution_count": 36,
   "id": "caf44a27-2978-409f-8f53-e55d1e32704b",
   "metadata": {},
   "outputs": [
    {
     "name": "stdout",
     "output_type": "stream",
     "text": [
      "Data successfully exported to /Users/macintoshcider/Documents/Programming/Python/ETL/climate-commerce/analytics/dim_payments.csv\n"
     ]
    }
   ],
   "source": [
    "# Define the output directory and ensure it exists\n",
    "output_dir = \"/Users/macintoshcider/Documents/Programming/Python/ETL/climate-commerce/analytics\"\n",
    "output_file = os.path.join(output_dir, \"dim_payments.csv\")\n",
    "ddb.execute(\n",
    "    f\"\"\"\n",
    "        COPY dim_payments TO '{output_file}' (FORMAT CSV, HEADER);\n",
    "    \"\"\"\n",
    ")\n",
    "print(f\"Data successfully exported to {output_file}\")"
   ]
  },
  {
   "cell_type": "code",
   "execution_count": 37,
   "id": "13647ed6-095e-4801-b42b-8951611bec1b",
   "metadata": {},
   "outputs": [],
   "source": [
    "# Finally close the connection instance \n",
    "ddb.close()"
   ]
  },
  {
   "cell_type": "code",
   "execution_count": null,
   "id": "8c86c827-3d92-4e0e-aa66-7ced3c47fe8e",
   "metadata": {},
   "outputs": [],
   "source": []
  }
 ],
 "metadata": {
  "kernelspec": {
   "display_name": "Python 3 (ipykernel)",
   "language": "python",
   "name": "python3"
  },
  "language_info": {
   "codemirror_mode": {
    "name": "ipython",
    "version": 3
   },
   "file_extension": ".py",
   "mimetype": "text/x-python",
   "name": "python",
   "nbconvert_exporter": "python",
   "pygments_lexer": "ipython3",
   "version": "3.11.9"
  }
 },
 "nbformat": 4,
 "nbformat_minor": 5
}

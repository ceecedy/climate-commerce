{
 "cells": [
  {
   "cell_type": "code",
   "execution_count": 1,
   "id": "b195940d-d4b6-4068-a2dd-210f53fa188a",
   "metadata": {},
   "outputs": [],
   "source": [
    "import os \n",
    "import duckdb\n",
    "from dotenv import load_dotenv"
   ]
  },
  {
   "cell_type": "code",
   "execution_count": 2,
   "id": "5ef4ccf1-ff63-4e50-b634-cfa46c76ce23",
   "metadata": {},
   "outputs": [],
   "source": [
    "# loading the env's \n",
    "load_dotenv()\n",
    "\n",
    "# setting up the paths \n",
    "base_path = os.getenv('base_path')\n",
    "database = os.getenv('database_path')"
   ]
  },
  {
   "cell_type": "code",
   "execution_count": 3,
   "id": "dd9b8c88-ecbb-45a4-b44a-2335a1e655e9",
   "metadata": {},
   "outputs": [],
   "source": [
    "# setting up the database path \n",
    "database_path = f\"{database}/database.db\"\n",
    "\n",
    "# setting up the connection to the database file \n",
    "ddb = duckdb.connect(database_path)"
   ]
  },
  {
   "cell_type": "code",
   "execution_count": 4,
   "id": "461c49be-e813-4563-bd62-0eceb12a9d74",
   "metadata": {},
   "outputs": [
    {
     "data": {
      "text/plain": [
       "<duckdb.duckdb.DuckDBPyConnection at 0x107a6ea70>"
      ]
     },
     "execution_count": 4,
     "metadata": {},
     "output_type": "execute_result"
    }
   ],
   "source": [
    "# ingesting customer csv table and create its relationship to other tables \n",
    "ddb.execute(\n",
    "    '''\n",
    "        CREATE TABLE IF NOT EXISTS dim_customers AS \n",
    "        SELECT \n",
    "            c.*,\n",
    "            g.GeoLocId\n",
    "        FROM \n",
    "            read_csv_auto(?) c\n",
    "        JOIN\n",
    "            dim_geolocation g\n",
    "        ON\n",
    "            c.customer_zip_code_prefix = g.GeoLocZipCodePrefix\n",
    "        AND \n",
    "            c.customer_city = g.GeoLocCity\n",
    "        AND \n",
    "            c.customer_state = g.GeoLocState;\n",
    "    ''',\n",
    "    (f\"{base_path}/datasets/olist_customers_dataset.csv\",)\n",
    ")"
   ]
  },
  {
   "cell_type": "code",
   "execution_count": 5,
   "id": "ad9012e7-c6b0-48cf-9e84-c6f73df11567",
   "metadata": {},
   "outputs": [
    {
     "data": {
      "text/plain": [
       "┌──────────────────────────────────┬──────────────────────────────────┬──────────────────────────┬───────────────┬────────────────┬──────────────────────────────────────┐\n",
       "│           customer_id            │        customer_unique_id        │ customer_zip_code_prefix │ customer_city │ customer_state │               GeoLocId               │\n",
       "│             varchar              │             varchar              │         varchar          │    varchar    │    varchar     │                 uuid                 │\n",
       "├──────────────────────────────────┼──────────────────────────────────┼──────────────────────────┼───────────────┼────────────────┼──────────────────────────────────────┤\n",
       "│ 6519f59a7687a4661f7c8a7e24f28f94 │ 324ce23e08a1768007118a11836ea7d3 │ 01037                    │ sao paulo     │ SP             │ 00014595-6534-4929-8518-beaa133b92b0 │\n",
       "│ f253f58c3e8f21a0997f6332ecc0c01d │ 9e5663921908dcd140cf657688ef6a0b │ 01046                    │ sao paulo     │ SP             │ 8589ccd2-af29-4fb4-909c-5ce12c976616 │\n",
       "│ f253f58c3e8f21a0997f6332ecc0c01d │ 9e5663921908dcd140cf657688ef6a0b │ 01046                    │ sao paulo     │ SP             │ f70af1db-18e0-4091-8b93-25c8bad59b52 │\n",
       "│ 7ad886c06d1fec7bef7e5b62b00554df │ 457a4576ad1939974d06c92f20d1df7e │ 01041                    │ sao paulo     │ SP             │ 1b8662ba-32ad-4505-9ddb-601da8266e34 │\n",
       "│ df578de48490fad348557aca8514d6be │ 87efb3bc38dea0dc5625e73a053724bc │ 01035                    │ sao paulo     │ SP             │ 5a1b60f9-9a65-4d3b-aefa-098b6c72a6d3 │\n",
       "│ 8e169211e544065a036c309b0088e87f │ 6893b41a1b6bb36ae089d72ed9d166a4 │ 01047                    │ sao paulo     │ SP             │ 31a49518-01b4-4233-8fa7-dc00f7753b09 │\n",
       "│ 092389b0ad58d08590243690dc4db793 │ 1ba9f0980fa83e3f8815eeb8c8afd14e │ 01013                    │ sao paulo     │ SP             │ e46c60c9-eb33-45b5-aacf-aa9c71fc188e │\n",
       "│ 3b7635130d1327ea2b273050efc450a9 │ 0220755d57fdf6a1f63f39f51bb5fb90 │ 01011                    │ sao paulo     │ SP             │ 9b6c0271-ba14-4629-8866-8a97b7c1d6be │\n",
       "│ 092389b0ad58d08590243690dc4db793 │ 1ba9f0980fa83e3f8815eeb8c8afd14e │ 01013                    │ sao paulo     │ SP             │ 574545fa-f3ac-4c8d-9653-6f6738c5fd75 │\n",
       "│ 1ee0463373450df45e0eb902fd7e066e │ 22d64c509a1b9ce57345c62df274e772 │ 01032                    │ sao paulo     │ SP             │ d8919921-b1a1-4a67-9421-6a2ffc914564 │\n",
       "│                ·                 │                ·                 │   ·                      │     ·         │ ·              │                  ·                   │\n",
       "│                ·                 │                ·                 │   ·                      │     ·         │ ·              │                  ·                   │\n",
       "│                ·                 │                ·                 │   ·                      │     ·         │ ·              │                  ·                   │\n",
       "│ 14dd8f53301c41af3243ed5ad0c9260a │ 6e47f24587a91a67cb8f7e01527eed3a │ 01238                    │ sao paulo     │ SP             │ abe421fe-b0a1-43a0-b0a1-4e96897252b0 │\n",
       "│ 0ffc6725f7acf582cc19d7db4b2e0c97 │ bd9d3fd4a6971997da00e9792d06e57e │ 01234                    │ sao paulo     │ SP             │ 22fe4c9f-5d77-4041-8819-4c43054107b1 │\n",
       "│ dfdacdf1ff55d5ec1684269778af5528 │ dd8c591eef8fa422333cea02d2014279 │ 01229                    │ sao paulo     │ SP             │ d4f2d156-efb5-4a45-a3ce-1c8f7dc83741 │\n",
       "│ 4948d9d11ebcd4d241a0b291c15d5779 │ 000d460961d6dbfa3ec6c9f5805769e1 │ 01206                    │ sao paulo     │ SP             │ 6b72fccc-cd34-4053-8c89-8691c77eeb36 │\n",
       "│ 13cd366fe64b37786a0c7cf845d1711f │ 5b976dd4f77ac841d7027290494b8dbe │ 01228                    │ sao paulo     │ SP             │ 010957f6-768c-44c9-b11f-07a28c6de866 │\n",
       "│ d867a7f45fa7d5dbf33f736581b9b003 │ 3b974605c0e7e9dc99c2ef3e36aa0c6c │ 01211                    │ sao paulo     │ SP             │ 09ceabe3-627a-45c3-a881-ca2be9d3f425 │\n",
       "│ 13cd366fe64b37786a0c7cf845d1711f │ 5b976dd4f77ac841d7027290494b8dbe │ 01228                    │ sao paulo     │ SP             │ 8c18a3f3-f501-41ad-8ff1-838a9c0ab811 │\n",
       "│ f620701a6e9f1096468511e9c2406a67 │ 45f95ec2f14442de49d9580396597ee9 │ 01223                    │ sao paulo     │ SP             │ 739bcc50-6385-4776-95a5-30affb4eddd3 │\n",
       "│ 039afda3072825c183a2ec67468cf1b7 │ b30dc2706c2d00ef71ed80a75eb242f7 │ 01241                    │ sao paulo     │ SP             │ 95d6332d-84ed-463f-9d72-1decdddf30de │\n",
       "│ 66b4ae7302e46815fcd2f46e6d811392 │ ff2f054d97cdd920843d34ecb43f7334 │ 01257                    │ sao paulo     │ SP             │ 299311a6-b18f-4344-ae06-f3843bfa7ade │\n",
       "├──────────────────────────────────┴──────────────────────────────────┴──────────────────────────┴───────────────┴────────────────┴──────────────────────────────────────┤\n",
       "│ ? rows (>9999 rows, 20 shown)                                                                                                                                6 columns │\n",
       "└────────────────────────────────────────────────────────────────────────────────────────────────────────────────────────────────────────────────────────────────────────┘"
      ]
     },
     "execution_count": 5,
     "metadata": {},
     "output_type": "execute_result"
    }
   ],
   "source": [
    "ddb.sql('''\n",
    "    SELECT \n",
    "        *\n",
    "    FROM dim_customers;\n",
    "''')"
   ]
  },
  {
   "cell_type": "code",
   "execution_count": 6,
   "id": "e1e05ca5-7dcf-483f-be9e-d16ef1e24d36",
   "metadata": {},
   "outputs": [],
   "source": [
    "# renaming tables in dim_customer \n",
    "ddb.sql(\n",
    "    '''\n",
    "        ALTER TABLE dim_customers \n",
    "        RENAME customer_id to CustomerId;\n",
    "    '''\n",
    ")\n",
    "\n",
    "ddb.sql(\n",
    "    '''\n",
    "        ALTER TABLE dim_customers \n",
    "        RENAME customer_unique_id to CustomerUniqueId;\n",
    "    '''\n",
    ")\n",
    "\n",
    "ddb.sql(\n",
    "    '''\n",
    "        ALTER TABLE dim_customers \n",
    "        RENAME customer_zip_code_prefix to CustomerZipCodePrefix;\n",
    "    '''\n",
    ")\n",
    "\n",
    "ddb.sql(\n",
    "    '''\n",
    "        ALTER TABLE dim_customers \n",
    "        RENAME customer_city to CustomerCity;\n",
    "    '''\n",
    ")\n",
    "\n",
    "ddb.sql(\n",
    "    '''\n",
    "        ALTER TABLE dim_customers \n",
    "        RENAME customer_state to CustomerState;\n",
    "    '''\n",
    ")"
   ]
  },
  {
   "cell_type": "code",
   "execution_count": 11,
   "id": "99033813-8194-4c57-ac29-e9a98e8c8417",
   "metadata": {
    "scrolled": true
   },
   "outputs": [
    {
     "data": {
      "text/plain": [
       "┌───────────────────────┬───────────┐\n",
       "│      column_name      │ data_type │\n",
       "│        varchar        │  varchar  │\n",
       "├───────────────────────┼───────────┤\n",
       "│ CustomerId            │ VARCHAR   │\n",
       "│ CustomerUniqueId      │ VARCHAR   │\n",
       "│ CustomerZipCodePrefix │ INTEGER   │\n",
       "│ CustomerCity          │ VARCHAR   │\n",
       "│ CustomerState         │ VARCHAR   │\n",
       "│ GeoLocId              │ UUID      │\n",
       "└───────────────────────┴───────────┘"
      ]
     },
     "execution_count": 11,
     "metadata": {},
     "output_type": "execute_result"
    }
   ],
   "source": [
    "# Checking data types of every column\n",
    "ddb.sql(\n",
    "    '''\n",
    "        SELECT column_name, data_type\n",
    "        FROM information_schema.columns\n",
    "        WHERE table_name = 'dim_customers';\n",
    "    '''\n",
    ")"
   ]
  },
  {
   "cell_type": "code",
   "execution_count": 8,
   "id": "0ab3ca70-8efa-4363-a8b9-50d2c4a8bf6a",
   "metadata": {},
   "outputs": [
    {
     "data": {
      "text/plain": [
       "┌────────────┬────────────┬──────────────────┬───────────────────────┬──────────────┬───────────────┬──────────┐\n",
       "│ total_rows │ CustomerId │ CustomerUniqueId │ CustomerZipCodePrefix │ CustomerCity │ CustomerState │ GeoLocId │\n",
       "│   int64    │   int64    │      int64       │         int64         │    int64     │     int64     │  int64   │\n",
       "├────────────┼────────────┼──────────────────┼───────────────────────┼──────────────┼───────────────┼──────────┤\n",
       "│   14129363 │          0 │                0 │                     0 │            0 │             0 │        0 │\n",
       "└────────────┴────────────┴──────────────────┴───────────────────────┴──────────────┴───────────────┴──────────┘"
      ]
     },
     "execution_count": 8,
     "metadata": {},
     "output_type": "execute_result"
    }
   ],
   "source": [
    "# Checking null values in dim_customers table \n",
    "ddb.sql(\n",
    "    '''\n",
    "        SELECT\n",
    "            COUNT(*) AS total_rows,\n",
    "            COUNT(CASE WHEN CustomerId IS NULL THEN 1 END) AS CustomerId,\n",
    "            COUNT(CASE WHEN CustomerUniqueId IS NULL THEN 1 END) AS CustomerUniqueId,\n",
    "            COUNT(CASE WHEN CustomerZipCodePrefix IS NULL THEN 1 END) AS CustomerZipCodePrefix,\n",
    "            COUNT(CASE WHEN CustomerCity IS NULL THEN 1 END) AS CustomerCity,\n",
    "            COUNT(CASE WHEN CustomerState IS NULL THEN 1 END) AS CustomerState,\n",
    "            COUNT(CASE WHEN GeoLocId IS NULL THEN 1 END) AS GeoLocId,\n",
    "        FROM \n",
    "            dim_customers;\n",
    "    '''\n",
    ")"
   ]
  },
  {
   "cell_type": "code",
   "execution_count": 10,
   "id": "d2b8e474-afe8-4ce3-83e5-3ac3092b2885",
   "metadata": {},
   "outputs": [],
   "source": [
    "# Checking and changing the datatypes of the dim_customers table to its appropriate data \n",
    "# 1. Add a new column with the correct type\n",
    "ddb.sql('''\n",
    "    ALTER TABLE dim_customers\n",
    "    ALTER COLUMN CustomerZipCodePrefix SET DATA TYPE INT;\n",
    "''')"
   ]
  },
  {
   "cell_type": "code",
   "execution_count": 12,
   "id": "0357af65-5225-4cf9-9fda-50f1bcd28254",
   "metadata": {},
   "outputs": [
    {
     "name": "stdout",
     "output_type": "stream",
     "text": [
      "Data successfully exported to /Users/macintoshcider/Documents/Programming/Python/ETL/climate-commerce/analytics/dim_customers.csv\n"
     ]
    }
   ],
   "source": [
    "# Define the output directory and ensure it exists\n",
    "output_dir = \"/Users/macintoshcider/Documents/Programming/Python/ETL/climate-commerce/analytics\"\n",
    "output_file = os.path.join(output_dir, \"dim_customers.csv\")\n",
    "ddb.execute(\n",
    "    f\"\"\"\n",
    "        COPY dim_customers TO '{output_file}' (FORMAT CSV, HEADER);\n",
    "    \"\"\"\n",
    ")\n",
    "print(f\"Data successfully exported to {output_file}\")"
   ]
  },
  {
   "cell_type": "code",
   "execution_count": 13,
   "id": "d67fe310-a372-4773-ade2-485da3bd6443",
   "metadata": {},
   "outputs": [],
   "source": [
    "# finally close the duckdb connection\n",
    "ddb.close()"
   ]
  },
  {
   "cell_type": "code",
   "execution_count": null,
   "id": "0889c469-4158-4f1a-9efc-60db9d982b02",
   "metadata": {},
   "outputs": [],
   "source": []
  }
 ],
 "metadata": {
  "kernelspec": {
   "display_name": "Python 3 (ipykernel)",
   "language": "python",
   "name": "python3"
  },
  "language_info": {
   "codemirror_mode": {
    "name": "ipython",
    "version": 3
   },
   "file_extension": ".py",
   "mimetype": "text/x-python",
   "name": "python",
   "nbconvert_exporter": "python",
   "pygments_lexer": "ipython3",
   "version": "3.11.9"
  }
 },
 "nbformat": 4,
 "nbformat_minor": 5
}

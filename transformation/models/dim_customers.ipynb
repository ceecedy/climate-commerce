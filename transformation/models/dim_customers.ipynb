{
 "cells": [
  {
   "cell_type": "code",
   "execution_count": 1,
   "id": "b195940d-d4b6-4068-a2dd-210f53fa188a",
   "metadata": {},
   "outputs": [],
   "source": [
    "import os \n",
    "import duckdb\n",
    "from dotenv import load_dotenv"
   ]
  },
  {
   "cell_type": "code",
   "execution_count": 2,
   "id": "5ef4ccf1-ff63-4e50-b634-cfa46c76ce23",
   "metadata": {},
   "outputs": [],
   "source": [
    "# loading the env's \n",
    "load_dotenv()\n",
    "\n",
    "# setting up the paths \n",
    "base_path = os.getenv('base_path')\n",
    "database = os.getenv('database_path')"
   ]
  },
  {
   "cell_type": "code",
   "execution_count": 3,
   "id": "dd9b8c88-ecbb-45a4-b44a-2335a1e655e9",
   "metadata": {},
   "outputs": [],
   "source": [
    "# setting up the database path \n",
    "database_path = f\"{database}/database.db\"\n",
    "\n",
    "# setting up the connection to the database file \n",
    "ddb = duckdb.connect(database_path)"
   ]
  },
  {
   "cell_type": "code",
   "execution_count": 9,
   "id": "461c49be-e813-4563-bd62-0eceb12a9d74",
   "metadata": {},
   "outputs": [
    {
     "data": {
      "text/plain": [
       "<duckdb.duckdb.DuckDBPyConnection at 0x1058e9a70>"
      ]
     },
     "execution_count": 9,
     "metadata": {},
     "output_type": "execute_result"
    }
   ],
   "source": [
    "# ingesting customer csv table and create its relationship to other tables \n",
    "ddb.execute(\n",
    "    '''\n",
    "        CREATE TABLE IF NOT EXISTS dim_customers AS \n",
    "        SELECT \n",
    "            c.*,\n",
    "            g.GeoLocId\n",
    "        FROM \n",
    "            read_csv_auto(?) c\n",
    "        JOIN\n",
    "            dim_geolocation g\n",
    "        ON\n",
    "            c.customer_zip_code_prefix = g.GeoLocZipCodePrefix\n",
    "        AND \n",
    "            c.customer_city = g.GeoLocCity\n",
    "        AND \n",
    "            c.customer_state = g.GeoLocState;\n",
    "    ''',\n",
    "    (f\"{base_path}/datasets/olist_customers_dataset.csv\",)\n",
    ")"
   ]
  },
  {
   "cell_type": "code",
   "execution_count": 10,
   "id": "ad9012e7-c6b0-48cf-9e84-c6f73df11567",
   "metadata": {},
   "outputs": [
    {
     "data": {
      "text/plain": [
       "┌──────────────────────────────────┬──────────────────────────────────┬───────────────────────┬──────────────┬───────────────┬──────────────────────────────────────┐\n",
       "│            CustomerId            │         CustomerUniqueId         │ CustomerZipCodePrefix │ CustomerCity │ CustomerState │               GeoLocId               │\n",
       "│             varchar              │             varchar              │        varchar        │   varchar    │    varchar    │                 uuid                 │\n",
       "├──────────────────────────────────┼──────────────────────────────────┼───────────────────────┼──────────────┼───────────────┼──────────────────────────────────────┤\n",
       "│ 6519f59a7687a4661f7c8a7e24f28f94 │ 324ce23e08a1768007118a11836ea7d3 │ 01037                 │ sao paulo    │ SP            │ 23f1e31a-7457-4c8c-8d0a-63a8a77111f4 │\n",
       "│ f253f58c3e8f21a0997f6332ecc0c01d │ 9e5663921908dcd140cf657688ef6a0b │ 01046                 │ sao paulo    │ SP            │ 2eae17cc-a488-4329-826d-1ab76f2f6a68 │\n",
       "│ f253f58c3e8f21a0997f6332ecc0c01d │ 9e5663921908dcd140cf657688ef6a0b │ 01046                 │ sao paulo    │ SP            │ d10d7988-1ffb-456e-a915-0f4cd07e691f │\n",
       "│ 7ad886c06d1fec7bef7e5b62b00554df │ 457a4576ad1939974d06c92f20d1df7e │ 01041                 │ sao paulo    │ SP            │ 8f0ed4f0-1fa3-4c42-8dff-0841f1672c7e │\n",
       "│ df578de48490fad348557aca8514d6be │ 87efb3bc38dea0dc5625e73a053724bc │ 01035                 │ sao paulo    │ SP            │ 56df58d5-eedb-4b7d-b344-b1d8c30cd255 │\n",
       "│ 8e169211e544065a036c309b0088e87f │ 6893b41a1b6bb36ae089d72ed9d166a4 │ 01047                 │ sao paulo    │ SP            │ 606b7fc0-2f8e-49d0-8e6f-b7835ed8d794 │\n",
       "│ 092389b0ad58d08590243690dc4db793 │ 1ba9f0980fa83e3f8815eeb8c8afd14e │ 01013                 │ sao paulo    │ SP            │ b248ac10-2dc6-4974-94b4-e7b78c6420d0 │\n",
       "│ 3b7635130d1327ea2b273050efc450a9 │ 0220755d57fdf6a1f63f39f51bb5fb90 │ 01011                 │ sao paulo    │ SP            │ 3d73f422-d112-4f4d-93db-390ee213029c │\n",
       "│ 092389b0ad58d08590243690dc4db793 │ 1ba9f0980fa83e3f8815eeb8c8afd14e │ 01013                 │ sao paulo    │ SP            │ 6e9396fc-6a2c-412a-a77f-37b8f235cfb9 │\n",
       "│ 1ee0463373450df45e0eb902fd7e066e │ 22d64c509a1b9ce57345c62df274e772 │ 01032                 │ sao paulo    │ SP            │ 81d6655d-461a-4bed-b778-8f9001e5a87f │\n",
       "│                ·                 │                ·                 │   ·                   │     ·        │ ·             │                  ·                   │\n",
       "│                ·                 │                ·                 │   ·                   │     ·        │ ·             │                  ·                   │\n",
       "│                ·                 │                ·                 │   ·                   │     ·        │ ·             │                  ·                   │\n",
       "│ 2813a2e8f60bfa209c3b3e3f1a442f54 │ 668516e2b97d15cae49c16310816ed11 │ 01222                 │ sao paulo    │ SP            │ c387e0ce-c377-430f-9384-2b56c3faa7b0 │\n",
       "│ c36d2a6b08edc9be276ccf9f1f48953a │ 1abebcce77574ad07e7cfae15188e68c │ 01242                 │ sao paulo    │ SP            │ aafabae6-324e-4e67-93cc-4ff440469d5b │\n",
       "│ c38a80e0350ff3bb0771ef23799199c3 │ b239b3d65726c187cdd7c52c94254db0 │ 01227                 │ sao paulo    │ SP            │ a09a12d6-2ce9-435f-939a-198fbe26c3e6 │\n",
       "│ ba8832dcb9bd10625d712651ec217efb │ 8621acc0a5139a8eddae89ef04239ace │ 01232                 │ sao paulo    │ SP            │ 9b6d9b00-2bc7-4ec7-8041-cd62c55c2cee │\n",
       "│ 0f9de5340f8ca84a67a3fc4e971965cb │ d4842aa226d96a1cce7414b48c1dba85 │ 01207                 │ sao paulo    │ SP            │ 106fe1b1-35de-4577-87bd-d04747895ac1 │\n",
       "│ c8830d8a8312a8b3b74370c4e61202ec │ 8b433c0e7b7d2a1f1148b4277cc673f8 │ 01221                 │ sao paulo    │ SP            │ f39bc1bf-a03d-44a3-ad3e-731bb567ae51 │\n",
       "│ d867a7f45fa7d5dbf33f736581b9b003 │ 3b974605c0e7e9dc99c2ef3e36aa0c6c │ 01211                 │ sao paulo    │ SP            │ e98e2dc5-d905-4a28-9d6e-d82dbafe45aa │\n",
       "│ f620701a6e9f1096468511e9c2406a67 │ 45f95ec2f14442de49d9580396597ee9 │ 01223                 │ sao paulo    │ SP            │ 7011cad4-d770-4fe9-8c42-9f8428ab8d34 │\n",
       "│ d867a7f45fa7d5dbf33f736581b9b003 │ 3b974605c0e7e9dc99c2ef3e36aa0c6c │ 01211                 │ sao paulo    │ SP            │ 2a70936d-c917-421e-8ca3-4ab1c9b8c6e7 │\n",
       "│ 6a65261dcad2b1ac3c5a6c25d473809e │ 9674f02855dc82f80b155f2d7d8b6e38 │ 01208                 │ sao paulo    │ SP            │ fd68811b-7524-41ff-a750-544b2d733b3c │\n",
       "├──────────────────────────────────┴──────────────────────────────────┴───────────────────────┴──────────────┴───────────────┴──────────────────────────────────────┤\n",
       "│ ? rows (>9999 rows, 20 shown)                                                                                                                           6 columns │\n",
       "└───────────────────────────────────────────────────────────────────────────────────────────────────────────────────────────────────────────────────────────────────┘"
      ]
     },
     "execution_count": 10,
     "metadata": {},
     "output_type": "execute_result"
    }
   ],
   "source": [
    "ddb.sql('''\n",
    "    SELECT \n",
    "        *\n",
    "    FROM dim_customers;\n",
    "''')"
   ]
  },
  {
   "cell_type": "code",
   "execution_count": 11,
   "id": "e1e05ca5-7dcf-483f-be9e-d16ef1e24d36",
   "metadata": {},
   "outputs": [
    {
     "ename": "BinderException",
     "evalue": "Binder Error: Table \"dim_customers\" does not have a column with name \"customer_id\"",
     "output_type": "error",
     "traceback": [
      "\u001b[0;31m---------------------------------------------------------------------------\u001b[0m",
      "\u001b[0;31mBinderException\u001b[0m                           Traceback (most recent call last)",
      "Cell \u001b[0;32mIn[11], line 2\u001b[0m\n\u001b[1;32m      1\u001b[0m \u001b[38;5;66;03m# renaming tables in dim_customer \u001b[39;00m\n\u001b[0;32m----> 2\u001b[0m \u001b[43mddb\u001b[49m\u001b[38;5;241;43m.\u001b[39;49m\u001b[43msql\u001b[49m\u001b[43m(\u001b[49m\n\u001b[1;32m      3\u001b[0m \u001b[38;5;250;43m    \u001b[39;49m\u001b[38;5;124;43;03m'''\u001b[39;49;00m\n\u001b[1;32m      4\u001b[0m \u001b[38;5;124;43;03m        ALTER TABLE dim_customers \u001b[39;49;00m\n\u001b[1;32m      5\u001b[0m \u001b[38;5;124;43;03m        RENAME customer_id to CustomerId;\u001b[39;49;00m\n\u001b[1;32m      6\u001b[0m \u001b[38;5;124;43;03m    '''\u001b[39;49;00m\n\u001b[1;32m      7\u001b[0m \u001b[43m)\u001b[49m\n\u001b[1;32m      9\u001b[0m ddb\u001b[38;5;241m.\u001b[39msql(\n\u001b[1;32m     10\u001b[0m \u001b[38;5;250m    \u001b[39m\u001b[38;5;124;03m'''\u001b[39;00m\n\u001b[1;32m     11\u001b[0m \u001b[38;5;124;03m        ALTER TABLE dim_customers \u001b[39;00m\n\u001b[1;32m     12\u001b[0m \u001b[38;5;124;03m        RENAME customer_unique_id to CustomerUniqueId;\u001b[39;00m\n\u001b[1;32m     13\u001b[0m \u001b[38;5;124;03m    '''\u001b[39;00m\n\u001b[1;32m     14\u001b[0m )\n\u001b[1;32m     16\u001b[0m ddb\u001b[38;5;241m.\u001b[39msql(\n\u001b[1;32m     17\u001b[0m \u001b[38;5;250m    \u001b[39m\u001b[38;5;124;03m'''\u001b[39;00m\n\u001b[1;32m     18\u001b[0m \u001b[38;5;124;03m        ALTER TABLE dim_customers \u001b[39;00m\n\u001b[1;32m     19\u001b[0m \u001b[38;5;124;03m        RENAME customer_zip_code_prefix to CustomerZipCodePrefix;\u001b[39;00m\n\u001b[1;32m     20\u001b[0m \u001b[38;5;124;03m    '''\u001b[39;00m\n\u001b[1;32m     21\u001b[0m )\n",
      "\u001b[0;31mBinderException\u001b[0m: Binder Error: Table \"dim_customers\" does not have a column with name \"customer_id\""
     ]
    }
   ],
   "source": [
    "# renaming tables in dim_customer \n",
    "ddb.sql(\n",
    "    '''\n",
    "        ALTER TABLE dim_customers \n",
    "        RENAME customer_id to CustomerId;\n",
    "    '''\n",
    ")\n",
    "\n",
    "ddb.sql(\n",
    "    '''\n",
    "        ALTER TABLE dim_customers \n",
    "        RENAME customer_unique_id to CustomerUniqueId;\n",
    "    '''\n",
    ")\n",
    "\n",
    "ddb.sql(\n",
    "    '''\n",
    "        ALTER TABLE dim_customers \n",
    "        RENAME customer_zip_code_prefix to CustomerZipCodePrefix;\n",
    "    '''\n",
    ")\n",
    "\n",
    "ddb.sql(\n",
    "    '''\n",
    "        ALTER TABLE dim_customers \n",
    "        RENAME customer_city to CustomerCity;\n",
    "    '''\n",
    ")\n",
    "\n",
    "ddb.sql(\n",
    "    '''\n",
    "        ALTER TABLE dim_customers \n",
    "        RENAME customer_state to CustomerState;\n",
    "    '''\n",
    ")"
   ]
  },
  {
   "cell_type": "code",
   "execution_count": 25,
   "id": "99033813-8194-4c57-ac29-e9a98e8c8417",
   "metadata": {
    "scrolled": true
   },
   "outputs": [
    {
     "data": {
      "text/plain": [
       "┌───────────────────────┬───────────┐\n",
       "│      column_name      │ data_type │\n",
       "│        varchar        │  varchar  │\n",
       "├───────────────────────┼───────────┤\n",
       "│ CustomerId            │ VARCHAR   │\n",
       "│ CustomerUniqueId      │ VARCHAR   │\n",
       "│ CustomerCity          │ VARCHAR   │\n",
       "│ CustomerState         │ VARCHAR   │\n",
       "│ GeoLocId              │ UUID      │\n",
       "│ CustomerZipCodePrefix │ INTEGER   │\n",
       "└───────────────────────┴───────────┘"
      ]
     },
     "execution_count": 25,
     "metadata": {},
     "output_type": "execute_result"
    }
   ],
   "source": [
    "# Checking data types of every column\n",
    "ddb.sql(\n",
    "    '''\n",
    "        SELECT column_name, data_type\n",
    "        FROM information_schema.columns\n",
    "        WHERE table_name = 'dim_customers';\n",
    "    '''\n",
    ")"
   ]
  },
  {
   "cell_type": "code",
   "execution_count": 17,
   "id": "0ab3ca70-8efa-4363-a8b9-50d2c4a8bf6a",
   "metadata": {},
   "outputs": [
    {
     "data": {
      "text/plain": [
       "┌────────────┬────────────┬──────────────────┬───────────────────────┬──────────────┬───────────────┬──────────┐\n",
       "│ total_rows │ CustomerId │ CustomerUniqueId │ CustomerZipCodePrefix │ CustomerCity │ CustomerState │ GeoLocId │\n",
       "│   int64    │   int64    │      int64       │         int64         │    int64     │     int64     │  int64   │\n",
       "├────────────┼────────────┼──────────────────┼───────────────────────┼──────────────┼───────────────┼──────────┤\n",
       "│   14129363 │          0 │                0 │                     0 │            0 │             0 │        0 │\n",
       "└────────────┴────────────┴──────────────────┴───────────────────────┴──────────────┴───────────────┴──────────┘"
      ]
     },
     "execution_count": 17,
     "metadata": {},
     "output_type": "execute_result"
    }
   ],
   "source": [
    "# Checking null values in dim_customers table \n",
    "ddb.sql(\n",
    "    '''\n",
    "        SELECT\n",
    "            COUNT(*) AS total_rows,\n",
    "            COUNT(CASE WHEN CustomerId IS NULL THEN 1 END) AS CustomerId,\n",
    "            COUNT(CASE WHEN CustomerUniqueId IS NULL THEN 1 END) AS CustomerUniqueId,\n",
    "            COUNT(CASE WHEN CustomerZipCodePrefix IS NULL THEN 1 END) AS CustomerZipCodePrefix,\n",
    "            COUNT(CASE WHEN CustomerCity IS NULL THEN 1 END) AS CustomerCity,\n",
    "            COUNT(CASE WHEN CustomerState IS NULL THEN 1 END) AS CustomerState,\n",
    "            COUNT(CASE WHEN GeoLocId IS NULL THEN 1 END) AS GeoLocId,\n",
    "        FROM \n",
    "            dim_customers;\n",
    "    '''\n",
    ")"
   ]
  },
  {
   "cell_type": "code",
   "execution_count": 24,
   "id": "d2b8e474-afe8-4ce3-83e5-3ac3092b2885",
   "metadata": {},
   "outputs": [],
   "source": [
    "# Checking and changing the datatypes of the dim_customers table to its appropriate data \n",
    "# 1. Add a new column with the correct type\n",
    "ddb.sql('''\n",
    "    ALTER TABLE dim_customers\n",
    "    ADD COLUMN CustomerZipCodePrefix_temp INT;\n",
    "''')\n",
    "\n",
    "# 2. Update the new column with the casted values from the original column\n",
    "ddb.sql('''\n",
    "    UPDATE dim_customers\n",
    "    SET CustomerZipCodePrefix_temp = CAST(CustomerZipCodePrefix AS INT);\n",
    "''')\n",
    "\n",
    "# 3. Drop the old column\n",
    "ddb.sql('''\n",
    "    ALTER TABLE dim_customers\n",
    "    DROP COLUMN CustomerZipCodePrefix;\n",
    "''')\n",
    "\n",
    "# 4. Rename the new column to match the original column name\n",
    "ddb.sql('''\n",
    "    ALTER TABLE dim_customers\n",
    "    RENAME COLUMN CustomerZipCodePrefix_temp TO CustomerZipCodePrefix;\n",
    "''')\n"
   ]
  },
  {
   "cell_type": "code",
   "execution_count": 26,
   "id": "0357af65-5225-4cf9-9fda-50f1bcd28254",
   "metadata": {},
   "outputs": [
    {
     "name": "stdout",
     "output_type": "stream",
     "text": [
      "Data successfully exported to /Users/macintoshcider/Documents/Programming/Python/ETL/climate-commerce/analytics/dim_customers.csv\n"
     ]
    }
   ],
   "source": [
    "# Define the output directory and ensure it exists\n",
    "output_dir = \"/Users/macintoshcider/Documents/Programming/Python/ETL/climate-commerce/analytics\"\n",
    "output_file = os.path.join(output_dir, \"dim_customers.csv\")\n",
    "ddb.execute(\n",
    "    f\"\"\"\n",
    "        COPY dim_sellers TO '{output_file}' (FORMAT CSV, HEADER);\n",
    "    \"\"\"\n",
    ")\n",
    "print(f\"Data successfully exported to {output_file}\")"
   ]
  },
  {
   "cell_type": "code",
   "execution_count": 27,
   "id": "d67fe310-a372-4773-ade2-485da3bd6443",
   "metadata": {},
   "outputs": [],
   "source": [
    "# finally close the duckdb connection\n",
    "ddb.close()"
   ]
  },
  {
   "cell_type": "code",
   "execution_count": null,
   "id": "0889c469-4158-4f1a-9efc-60db9d982b02",
   "metadata": {},
   "outputs": [],
   "source": []
  }
 ],
 "metadata": {
  "kernelspec": {
   "display_name": "Python 3 (ipykernel)",
   "language": "python",
   "name": "python3"
  },
  "language_info": {
   "codemirror_mode": {
    "name": "ipython",
    "version": 3
   },
   "file_extension": ".py",
   "mimetype": "text/x-python",
   "name": "python",
   "nbconvert_exporter": "python",
   "pygments_lexer": "ipython3",
   "version": "3.11.9"
  }
 },
 "nbformat": 4,
 "nbformat_minor": 5
}

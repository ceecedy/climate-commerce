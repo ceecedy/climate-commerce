{
 "cells": [
  {
   "cell_type": "code",
   "execution_count": 1,
   "id": "851bcebf-73d2-42fe-9829-e4ea0c3861cf",
   "metadata": {},
   "outputs": [],
   "source": [
    "import os \n",
    "import duckdb \n",
    "from dotenv import load_dotenv"
   ]
  },
  {
   "cell_type": "code",
   "execution_count": 4,
   "id": "b75661ab-057d-4126-a62d-fa70bcfd8021",
   "metadata": {},
   "outputs": [],
   "source": [
    "# loading the env \n",
    "load_dotenv()\n",
    "\n",
    "# setting up the paths \n",
    "base_path = os.getenv('base_path')\n",
    "database = os.getenv('database_path')"
   ]
  },
  {
   "cell_type": "code",
   "execution_count": 6,
   "id": "714cbbf2-bea2-44e6-ae11-8ca4ac7df4a0",
   "metadata": {},
   "outputs": [],
   "source": [
    "# setting up the in memory database \n",
    "database_path = f\"{database}/database.db\"\n",
    "\n",
    "# connecting to database file \n",
    "ddb = duckdb.connect(database_path)"
   ]
  },
  {
   "cell_type": "code",
   "execution_count": 9,
   "id": "62861ca1-897c-4fcd-9aa5-647f5b003e06",
   "metadata": {},
   "outputs": [
    {
     "data": {
      "text/plain": [
       "<duckdb.duckdb.DuckDBPyConnection at 0x107953cf0>"
      ]
     },
     "execution_count": 9,
     "metadata": {},
     "output_type": "execute_result"
    }
   ],
   "source": [
    "# create table dim_seller and create all of its relationships \n",
    "ddb.execute(\n",
    "    '''\n",
    "        CREATE TABLE IF NOT EXISTS dim_sellers AS \n",
    "        SELECT \n",
    "            s.*, \n",
    "            g.GeoLocId\n",
    "        FROM\n",
    "            read_csv_auto(?) s \n",
    "        JOIN \n",
    "            dim_geolocation g \n",
    "        ON\n",
    "            s.seller_zip_code_prefix = g.GeoLocZipCodePrefix\n",
    "        AND \n",
    "            s.seller_city = g.GeoLocCity\n",
    "        AND \n",
    "            s.seller_state = g.GeoLocState;\n",
    "    ''',\n",
    "    (f\"{base_path}/datasets/olist_sellers_dataset.csv\",)\n",
    ")"
   ]
  },
  {
   "cell_type": "code",
   "execution_count": 12,
   "id": "700d4d72-64b6-4ba6-bc46-468bee20a480",
   "metadata": {},
   "outputs": [],
   "source": [
    "# renaming tables in dim_seller \n",
    "ddb.sql(\n",
    "    '''\n",
    "        ALTER TABLE dim_sellers \n",
    "        RENAME seller_id TO SellerId;\n",
    "    '''\n",
    ")\n",
    "\n",
    "ddb.sql(\n",
    "    '''\n",
    "        ALTER TABLE dim_sellers \n",
    "        RENAME seller_zip_code_prefix TO SellerZipCodePrefix;\n",
    "    '''\n",
    ")\n",
    "\n",
    "ddb.sql(\n",
    "    '''\n",
    "        ALTER TABLE dim_sellers \n",
    "        RENAME seller_city TO SellerCity;\n",
    "    '''\n",
    ")\n",
    "\n",
    "ddb.sql(\n",
    "    '''\n",
    "        ALTER TABLE dim_sellers \n",
    "        RENAME seller_state TO SellerState;\n",
    "    '''\n",
    ")"
   ]
  },
  {
   "cell_type": "code",
   "execution_count": 13,
   "id": "7e78da1e-2992-4852-9c7e-3955aa32f49b",
   "metadata": {},
   "outputs": [
    {
     "data": {
      "text/plain": [
       "┌──────────────────────────────────┬─────────────────────┬────────────┬─────────────┬──────────────────────────────────────┐\n",
       "│             SellerId             │ SellerZipCodePrefix │ SellerCity │ SellerState │               GeoLocId               │\n",
       "│             varchar              │       varchar       │  varchar   │   varchar   │                 uuid                 │\n",
       "├──────────────────────────────────┼─────────────────────┼────────────┼─────────────┼──────────────────────────────────────┤\n",
       "│ ad420dd0c4f92f8af951ac24b86d0cf5 │ 38230               │ fronteira  │ MG          │ 9340b6d0-57ff-4b38-b868-21b1594196ca │\n",
       "│ ad420dd0c4f92f8af951ac24b86d0cf5 │ 38230               │ fronteira  │ MG          │ 42998436-ee2d-4150-8a79-7dadb2860784 │\n",
       "│ ad420dd0c4f92f8af951ac24b86d0cf5 │ 38230               │ fronteira  │ MG          │ cb1c466d-178a-4ce1-adcc-9a2a7b21a68f │\n",
       "│ ad420dd0c4f92f8af951ac24b86d0cf5 │ 38230               │ fronteira  │ MG          │ c0b136dc-6a7a-4706-b4bf-9f668596a8a0 │\n",
       "│ ad420dd0c4f92f8af951ac24b86d0cf5 │ 38230               │ fronteira  │ MG          │ 535e5716-c7c3-497f-9283-3835a6fc3859 │\n",
       "│ ad420dd0c4f92f8af951ac24b86d0cf5 │ 38230               │ fronteira  │ MG          │ 6216754c-2bbc-4446-9bc9-5efe69653cd4 │\n",
       "│ ad420dd0c4f92f8af951ac24b86d0cf5 │ 38230               │ fronteira  │ MG          │ 9141ecf9-17c2-465f-bcb6-19f70307d09c │\n",
       "│ ad420dd0c4f92f8af951ac24b86d0cf5 │ 38230               │ fronteira  │ MG          │ c800cb07-e5c9-4128-a1a6-4b2d109ec2f3 │\n",
       "│ ad420dd0c4f92f8af951ac24b86d0cf5 │ 38230               │ fronteira  │ MG          │ 5f25065d-0917-446f-90f4-57994f3fa2e7 │\n",
       "│ ad420dd0c4f92f8af951ac24b86d0cf5 │ 38230               │ fronteira  │ MG          │ 261e1ac5-22a1-4554-b498-6e91cff04e89 │\n",
       "│                ·                 │   ·                 │    ·       │ ·           │                  ·                   │\n",
       "│                ·                 │   ·                 │    ·       │ ·           │                  ·                   │\n",
       "│                ·                 │   ·                 │    ·       │ ·           │                  ·                   │\n",
       "│ eb4a59a06b3948e851a7d7a830bcbc42 │ 41820               │ salvador   │ BA          │ a0f6f299-aa95-4a1b-90b1-739ba63bf1e1 │\n",
       "│ eb4a59a06b3948e851a7d7a830bcbc42 │ 41820               │ salvador   │ BA          │ fb9e5d6f-0f67-4152-bbed-553159a2d570 │\n",
       "│ eb4a59a06b3948e851a7d7a830bcbc42 │ 41820               │ salvador   │ BA          │ 29b4aa88-6a2c-47e5-9968-fdc138ac0298 │\n",
       "│ eb4a59a06b3948e851a7d7a830bcbc42 │ 41820               │ salvador   │ BA          │ 39020fd8-dcd5-44a2-9c75-de9336de81f1 │\n",
       "│ eb4a59a06b3948e851a7d7a830bcbc42 │ 41820               │ salvador   │ BA          │ bac9b90e-7710-42fb-8585-b0f5ba0b1733 │\n",
       "│ eb4a59a06b3948e851a7d7a830bcbc42 │ 41820               │ salvador   │ BA          │ 331343b1-eef6-4715-8c61-98c2782f0e8f │\n",
       "│ eb4a59a06b3948e851a7d7a830bcbc42 │ 41820               │ salvador   │ BA          │ be4f84fb-bf0a-4cad-a610-b13d0533b6ad │\n",
       "│ eb4a59a06b3948e851a7d7a830bcbc42 │ 41820               │ salvador   │ BA          │ 3140e984-de5a-42ad-b1c7-203e38d95c45 │\n",
       "│ eb4a59a06b3948e851a7d7a830bcbc42 │ 41820               │ salvador   │ BA          │ 8ee9b721-8878-4180-a5f6-6ccac5ea8e5e │\n",
       "│ eb4a59a06b3948e851a7d7a830bcbc42 │ 41820               │ salvador   │ BA          │ 88ad95dd-2d2b-4065-af46-fdd4b928e8bb │\n",
       "├──────────────────────────────────┴─────────────────────┴────────────┴─────────────┴──────────────────────────────────────┤\n",
       "│ ? rows (>9999 rows, 20 shown)                                                                                  5 columns │\n",
       "└──────────────────────────────────────────────────────────────────────────────────────────────────────────────────────────┘"
      ]
     },
     "execution_count": 13,
     "metadata": {},
     "output_type": "execute_result"
    }
   ],
   "source": [
    "ddb.sql(\n",
    "    '''\n",
    "        SELECT *\n",
    "        FROM dim_sellers;\n",
    "    '''\n",
    ")"
   ]
  },
  {
   "cell_type": "code",
   "execution_count": 15,
   "id": "388e8b6b-1737-42cc-b332-dedd194d7a1f",
   "metadata": {},
   "outputs": [
    {
     "data": {
      "text/plain": [
       "┌─────────────────────┬───────────┐\n",
       "│     column_name     │ data_type │\n",
       "│       varchar       │  varchar  │\n",
       "├─────────────────────┼───────────┤\n",
       "│ SellerId            │ VARCHAR   │\n",
       "│ SellerZipCodePrefix │ VARCHAR   │\n",
       "│ SellerCity          │ VARCHAR   │\n",
       "│ SellerState         │ VARCHAR   │\n",
       "│ GeoLocId            │ UUID      │\n",
       "└─────────────────────┴───────────┘"
      ]
     },
     "execution_count": 15,
     "metadata": {},
     "output_type": "execute_result"
    }
   ],
   "source": [
    "# Checking the data types of every column\n",
    "ddb.sql(\n",
    "    '''\n",
    "        SELECT column_name, data_type\n",
    "        FROM information_schema.columns\n",
    "        WHERE table_name = 'dim_sellers';\n",
    "    '''\n",
    ")"
   ]
  },
  {
   "cell_type": "code",
   "execution_count": 17,
   "id": "33c56d82-21c5-4b87-8d1f-ef6094ced75b",
   "metadata": {},
   "outputs": [
    {
     "data": {
      "text/plain": [
       "┌────────────┬──────────┬─────────────────────┬────────────┬─────────────┬──────────┐\n",
       "│ total_rows │ SellerId │ SellerZipCodePrefix │ SellerCity │ SellerState │ GeoLocId │\n",
       "│   int64    │  int64   │        int64        │   int64    │    int64    │  int64   │\n",
       "├────────────┼──────────┼─────────────────────┼────────────┼─────────────┼──────────┤\n",
       "│     385584 │        0 │                   0 │          0 │           0 │        0 │\n",
       "└────────────┴──────────┴─────────────────────┴────────────┴─────────────┴──────────┘"
      ]
     },
     "execution_count": 17,
     "metadata": {},
     "output_type": "execute_result"
    }
   ],
   "source": [
    "# Checking null values in dim_sellers table \n",
    "ddb.sql(\n",
    "    '''\n",
    "        SELECT\n",
    "            COUNT(*) AS total_rows,\n",
    "            COUNT(CASE WHEN SellerId IS NULL THEN 1 END) AS SellerId,\n",
    "            COUNT(CASE WHEN SellerZipCodePrefix IS NULL THEN 1 END) AS SellerZipCodePrefix,\n",
    "            COUNT(CASE WHEN SellerCity IS NULL THEN 1 END) AS SellerCity,\n",
    "            COUNT(CASE WHEN SellerState IS NULL THEN 1 END) AS SellerState,\n",
    "            COUNT(CASE WHEN GeoLocId IS NULL THEN 1 END) AS GeoLocId,\n",
    "        FROM \n",
    "            dim_sellers;\n",
    "    '''\n",
    ")"
   ]
  },
  {
   "cell_type": "code",
   "execution_count": 18,
   "id": "203d2e0a-25e9-481a-8f7e-ffc27fbd34b3",
   "metadata": {},
   "outputs": [
    {
     "data": {
      "text/plain": [
       "┌──────────────────────────────────┬─────────────────────┬────────────┬─────────────┬──────────────────────────────────────┐\n",
       "│             SellerId             │ SellerZipCodePrefix │ SellerCity │ SellerState │               GeoLocId               │\n",
       "│             varchar              │        int32        │  varchar   │   varchar   │                 uuid                 │\n",
       "├──────────────────────────────────┼─────────────────────┼────────────┼─────────────┼──────────────────────────────────────┤\n",
       "│ ad420dd0c4f92f8af951ac24b86d0cf5 │               38230 │ fronteira  │ MG          │ 9340b6d0-57ff-4b38-b868-21b1594196ca │\n",
       "│ ad420dd0c4f92f8af951ac24b86d0cf5 │               38230 │ fronteira  │ MG          │ 42998436-ee2d-4150-8a79-7dadb2860784 │\n",
       "│ ad420dd0c4f92f8af951ac24b86d0cf5 │               38230 │ fronteira  │ MG          │ cb1c466d-178a-4ce1-adcc-9a2a7b21a68f │\n",
       "│ ad420dd0c4f92f8af951ac24b86d0cf5 │               38230 │ fronteira  │ MG          │ c0b136dc-6a7a-4706-b4bf-9f668596a8a0 │\n",
       "│ ad420dd0c4f92f8af951ac24b86d0cf5 │               38230 │ fronteira  │ MG          │ 535e5716-c7c3-497f-9283-3835a6fc3859 │\n",
       "│ ad420dd0c4f92f8af951ac24b86d0cf5 │               38230 │ fronteira  │ MG          │ 6216754c-2bbc-4446-9bc9-5efe69653cd4 │\n",
       "│ ad420dd0c4f92f8af951ac24b86d0cf5 │               38230 │ fronteira  │ MG          │ 9141ecf9-17c2-465f-bcb6-19f70307d09c │\n",
       "│ ad420dd0c4f92f8af951ac24b86d0cf5 │               38230 │ fronteira  │ MG          │ c800cb07-e5c9-4128-a1a6-4b2d109ec2f3 │\n",
       "│ ad420dd0c4f92f8af951ac24b86d0cf5 │               38230 │ fronteira  │ MG          │ 5f25065d-0917-446f-90f4-57994f3fa2e7 │\n",
       "│ ad420dd0c4f92f8af951ac24b86d0cf5 │               38230 │ fronteira  │ MG          │ 261e1ac5-22a1-4554-b498-6e91cff04e89 │\n",
       "│                ·                 │                 ·   │    ·       │ ·           │                  ·                   │\n",
       "│                ·                 │                 ·   │    ·       │ ·           │                  ·                   │\n",
       "│                ·                 │                 ·   │    ·       │ ·           │                  ·                   │\n",
       "│ eb4a59a06b3948e851a7d7a830bcbc42 │               41820 │ salvador   │ BA          │ a0f6f299-aa95-4a1b-90b1-739ba63bf1e1 │\n",
       "│ eb4a59a06b3948e851a7d7a830bcbc42 │               41820 │ salvador   │ BA          │ fb9e5d6f-0f67-4152-bbed-553159a2d570 │\n",
       "│ eb4a59a06b3948e851a7d7a830bcbc42 │               41820 │ salvador   │ BA          │ 29b4aa88-6a2c-47e5-9968-fdc138ac0298 │\n",
       "│ eb4a59a06b3948e851a7d7a830bcbc42 │               41820 │ salvador   │ BA          │ 39020fd8-dcd5-44a2-9c75-de9336de81f1 │\n",
       "│ eb4a59a06b3948e851a7d7a830bcbc42 │               41820 │ salvador   │ BA          │ bac9b90e-7710-42fb-8585-b0f5ba0b1733 │\n",
       "│ eb4a59a06b3948e851a7d7a830bcbc42 │               41820 │ salvador   │ BA          │ 331343b1-eef6-4715-8c61-98c2782f0e8f │\n",
       "│ eb4a59a06b3948e851a7d7a830bcbc42 │               41820 │ salvador   │ BA          │ be4f84fb-bf0a-4cad-a610-b13d0533b6ad │\n",
       "│ eb4a59a06b3948e851a7d7a830bcbc42 │               41820 │ salvador   │ BA          │ 3140e984-de5a-42ad-b1c7-203e38d95c45 │\n",
       "│ eb4a59a06b3948e851a7d7a830bcbc42 │               41820 │ salvador   │ BA          │ 8ee9b721-8878-4180-a5f6-6ccac5ea8e5e │\n",
       "│ eb4a59a06b3948e851a7d7a830bcbc42 │               41820 │ salvador   │ BA          │ 88ad95dd-2d2b-4065-af46-fdd4b928e8bb │\n",
       "├──────────────────────────────────┴─────────────────────┴────────────┴─────────────┴──────────────────────────────────────┤\n",
       "│ ? rows (>9999 rows, 20 shown)                                                                                  5 columns │\n",
       "└──────────────────────────────────────────────────────────────────────────────────────────────────────────────────────────┘"
      ]
     },
     "execution_count": 18,
     "metadata": {},
     "output_type": "execute_result"
    }
   ],
   "source": [
    "# Checking the datatyoes of the dim_sellers table \n",
    "ddb.sql(\n",
    "    '''\n",
    "        SELECT \n",
    "            CAST(SellerId AS VARCHAR) AS SellerId,\n",
    "            CAST(SellerZipCodePrefix AS INT) AS SellerZipCodePrefix,\n",
    "            CAST(SellerCity AS VARCHAR) AS SellerCity,\n",
    "            CAST(SellerState AS VARCHAR) AS SellerState,\n",
    "            CAST(GeoLocId AS UUID) AS GeoLocId,\n",
    "        FROM dim_sellers;\n",
    "    '''\n",
    ")"
   ]
  },
  {
   "cell_type": "code",
   "execution_count": 19,
   "id": "b528ec68-4726-4755-b434-b03ba77df288",
   "metadata": {},
   "outputs": [
    {
     "name": "stdout",
     "output_type": "stream",
     "text": [
      "Data successfully exported to /Users/macintoshcider/Documents/Programming/Python/ETL/climate-commerce/analytics/dim_sellers.csv\n"
     ]
    }
   ],
   "source": [
    "# Define the output directory and ensure it exists\n",
    "output_dir = \"/Users/macintoshcider/Documents/Programming/Python/ETL/climate-commerce/analytics\"\n",
    "output_file = os.path.join(output_dir, \"dim_sellers.csv\")\n",
    "ddb.execute(\n",
    "    f\"\"\"\n",
    "        COPY dim_sellers TO '{output_file}' (FORMAT CSV, HEADER);\n",
    "    \"\"\"\n",
    ")\n",
    "print(f\"Data successfully exported to {output_file}\")"
   ]
  },
  {
   "cell_type": "code",
   "execution_count": 20,
   "id": "fd5e68dd-96fb-43a5-a3d0-573b56ca13a2",
   "metadata": {},
   "outputs": [],
   "source": [
    "# finally closing the duckdb connection\n",
    "ddb.close()"
   ]
  },
  {
   "cell_type": "code",
   "execution_count": null,
   "id": "5588263b-3290-45c4-b70a-24739c5288bb",
   "metadata": {},
   "outputs": [],
   "source": []
  }
 ],
 "metadata": {
  "kernelspec": {
   "display_name": "Python 3 (ipykernel)",
   "language": "python",
   "name": "python3"
  },
  "language_info": {
   "codemirror_mode": {
    "name": "ipython",
    "version": 3
   },
   "file_extension": ".py",
   "mimetype": "text/x-python",
   "name": "python",
   "nbconvert_exporter": "python",
   "pygments_lexer": "ipython3",
   "version": "3.11.9"
  }
 },
 "nbformat": 4,
 "nbformat_minor": 5
}

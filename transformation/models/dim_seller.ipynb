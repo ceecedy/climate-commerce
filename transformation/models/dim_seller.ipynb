{
 "cells": [
  {
   "cell_type": "code",
   "execution_count": 1,
   "id": "851bcebf-73d2-42fe-9829-e4ea0c3861cf",
   "metadata": {},
   "outputs": [],
   "source": [
    "import os \n",
    "import duckdb \n",
    "from dotenv import load_dotenv"
   ]
  },
  {
   "cell_type": "code",
   "execution_count": 2,
   "id": "b75661ab-057d-4126-a62d-fa70bcfd8021",
   "metadata": {},
   "outputs": [],
   "source": [
    "# loading the env \n",
    "load_dotenv()\n",
    "\n",
    "# setting up the paths \n",
    "base_path = os.getenv('base_path')\n",
    "database = os.getenv('database_path')"
   ]
  },
  {
   "cell_type": "code",
   "execution_count": 3,
   "id": "714cbbf2-bea2-44e6-ae11-8ca4ac7df4a0",
   "metadata": {},
   "outputs": [],
   "source": [
    "# setting up the in memory database \n",
    "database_path = f\"{database}/database.db\"\n",
    "\n",
    "# connecting to database file \n",
    "ddb = duckdb.connect(database_path)"
   ]
  },
  {
   "cell_type": "code",
   "execution_count": 4,
   "id": "62861ca1-897c-4fcd-9aa5-647f5b003e06",
   "metadata": {},
   "outputs": [
    {
     "data": {
      "text/plain": [
       "<duckdb.duckdb.DuckDBPyConnection at 0x105cf5d30>"
      ]
     },
     "execution_count": 4,
     "metadata": {},
     "output_type": "execute_result"
    }
   ],
   "source": [
    "# create table dim_seller and create all of its relationships \n",
    "ddb.execute(\n",
    "    '''\n",
    "        CREATE TABLE IF NOT EXISTS dim_sellers AS \n",
    "        SELECT \n",
    "            s.*, \n",
    "            g.GeoLocId\n",
    "        FROM\n",
    "            read_csv_auto(?) s \n",
    "        JOIN \n",
    "            dim_geolocation g \n",
    "        ON\n",
    "            s.seller_zip_code_prefix = g.GeoLocZipCodePrefix\n",
    "        AND \n",
    "            s.seller_city = g.GeoLocCity\n",
    "        AND \n",
    "            s.seller_state = g.GeoLocState;\n",
    "    ''',\n",
    "    (f\"{base_path}/datasets/olist_sellers_dataset.csv\",)\n",
    ")"
   ]
  },
  {
   "cell_type": "code",
   "execution_count": 5,
   "id": "700d4d72-64b6-4ba6-bc46-468bee20a480",
   "metadata": {},
   "outputs": [],
   "source": [
    "# renaming tables in dim_seller \n",
    "ddb.sql(\n",
    "    '''\n",
    "        ALTER TABLE dim_sellers \n",
    "        RENAME seller_id TO SellerId;\n",
    "    '''\n",
    ")\n",
    "\n",
    "ddb.sql(\n",
    "    '''\n",
    "        ALTER TABLE dim_sellers \n",
    "        RENAME seller_zip_code_prefix TO SellerZipCodePrefix;\n",
    "    '''\n",
    ")\n",
    "\n",
    "ddb.sql(\n",
    "    '''\n",
    "        ALTER TABLE dim_sellers \n",
    "        RENAME seller_city TO SellerCity;\n",
    "    '''\n",
    ")\n",
    "\n",
    "ddb.sql(\n",
    "    '''\n",
    "        ALTER TABLE dim_sellers \n",
    "        RENAME seller_state TO SellerState;\n",
    "    '''\n",
    ")"
   ]
  },
  {
   "cell_type": "code",
   "execution_count": 6,
   "id": "7e78da1e-2992-4852-9c7e-3955aa32f49b",
   "metadata": {},
   "outputs": [
    {
     "data": {
      "text/plain": [
       "┌──────────────────────────────────┬─────────────────────┬────────────┬─────────────┬──────────────────────────────────────┐\n",
       "│             SellerId             │ SellerZipCodePrefix │ SellerCity │ SellerState │               GeoLocId               │\n",
       "│             varchar              │       varchar       │  varchar   │   varchar   │                 uuid                 │\n",
       "├──────────────────────────────────┼─────────────────────┼────────────┼─────────────┼──────────────────────────────────────┤\n",
       "│ ad420dd0c4f92f8af951ac24b86d0cf5 │ 38230               │ fronteira  │ MG          │ c0d6d646-676e-4e2c-8e17-3fa80b95c9b5 │\n",
       "│ ad420dd0c4f92f8af951ac24b86d0cf5 │ 38230               │ fronteira  │ MG          │ 6b540dd8-5332-489e-bcc7-9a2a311c672e │\n",
       "│ ad420dd0c4f92f8af951ac24b86d0cf5 │ 38230               │ fronteira  │ MG          │ f2c8cbdc-4b88-489e-84d7-c5d73a121cf6 │\n",
       "│ ad420dd0c4f92f8af951ac24b86d0cf5 │ 38230               │ fronteira  │ MG          │ 66641bdd-897a-4887-881c-2df903e63eaf │\n",
       "│ ad420dd0c4f92f8af951ac24b86d0cf5 │ 38230               │ fronteira  │ MG          │ 3d9ff990-c9c1-4f5b-92a9-928e4c7f793d │\n",
       "│ ad420dd0c4f92f8af951ac24b86d0cf5 │ 38230               │ fronteira  │ MG          │ ed054d6b-e8b9-470e-9764-9d85374d84ef │\n",
       "│ ad420dd0c4f92f8af951ac24b86d0cf5 │ 38230               │ fronteira  │ MG          │ dc7edc51-7e57-4017-9de0-a5d1c44fe08c │\n",
       "│ ad420dd0c4f92f8af951ac24b86d0cf5 │ 38230               │ fronteira  │ MG          │ 9bc9747c-4a71-4499-a93d-1604e9104a05 │\n",
       "│ ad420dd0c4f92f8af951ac24b86d0cf5 │ 38230               │ fronteira  │ MG          │ ed091018-4b4f-4a0a-aef2-251973486536 │\n",
       "│ ad420dd0c4f92f8af951ac24b86d0cf5 │ 38230               │ fronteira  │ MG          │ 2477bf7c-d3c3-4a50-8835-49153f15512f │\n",
       "│                ·                 │   ·                 │    ·       │ ·           │                  ·                   │\n",
       "│                ·                 │   ·                 │    ·       │ ·           │                  ·                   │\n",
       "│                ·                 │   ·                 │    ·       │ ·           │                  ·                   │\n",
       "│ eb4a59a06b3948e851a7d7a830bcbc42 │ 41820               │ salvador   │ BA          │ 2f2ab556-b7e4-455d-be82-56c0f68b95e2 │\n",
       "│ eb4a59a06b3948e851a7d7a830bcbc42 │ 41820               │ salvador   │ BA          │ 741347fb-f90d-43f1-9552-1725c82a23ca │\n",
       "│ eb4a59a06b3948e851a7d7a830bcbc42 │ 41820               │ salvador   │ BA          │ 1b0a6dd8-0f6e-44b6-8d9f-f6e47e12593b │\n",
       "│ eb4a59a06b3948e851a7d7a830bcbc42 │ 41820               │ salvador   │ BA          │ ce38bfb9-4227-404d-b818-a342402c83e9 │\n",
       "│ eb4a59a06b3948e851a7d7a830bcbc42 │ 41820               │ salvador   │ BA          │ a5703853-26df-42b9-87a2-7da961780926 │\n",
       "│ eb4a59a06b3948e851a7d7a830bcbc42 │ 41820               │ salvador   │ BA          │ 373effe4-63d2-44d7-8791-b6c1284f9446 │\n",
       "│ eb4a59a06b3948e851a7d7a830bcbc42 │ 41820               │ salvador   │ BA          │ 9cd2a21a-dc94-471a-9cab-1d79854ee03b │\n",
       "│ eb4a59a06b3948e851a7d7a830bcbc42 │ 41820               │ salvador   │ BA          │ a7995668-5626-45cc-bfb4-1fe6f1bdd5d1 │\n",
       "│ eb4a59a06b3948e851a7d7a830bcbc42 │ 41820               │ salvador   │ BA          │ 7b4ba8ca-a2eb-4697-b38a-2e350124deb7 │\n",
       "│ eb4a59a06b3948e851a7d7a830bcbc42 │ 41820               │ salvador   │ BA          │ 3cc0c63e-5fab-4c9e-9464-2a6f4dd00cb3 │\n",
       "├──────────────────────────────────┴─────────────────────┴────────────┴─────────────┴──────────────────────────────────────┤\n",
       "│ ? rows (>9999 rows, 20 shown)                                                                                  5 columns │\n",
       "└──────────────────────────────────────────────────────────────────────────────────────────────────────────────────────────┘"
      ]
     },
     "execution_count": 6,
     "metadata": {},
     "output_type": "execute_result"
    }
   ],
   "source": [
    "ddb.sql(\n",
    "    '''\n",
    "        SELECT *\n",
    "        FROM dim_sellers;\n",
    "    '''\n",
    ")"
   ]
  },
  {
   "cell_type": "code",
   "execution_count": 7,
   "id": "388e8b6b-1737-42cc-b332-dedd194d7a1f",
   "metadata": {},
   "outputs": [
    {
     "data": {
      "text/plain": [
       "┌─────────────────────┬───────────┐\n",
       "│     column_name     │ data_type │\n",
       "│       varchar       │  varchar  │\n",
       "├─────────────────────┼───────────┤\n",
       "│ SellerId            │ VARCHAR   │\n",
       "│ SellerZipCodePrefix │ VARCHAR   │\n",
       "│ SellerCity          │ VARCHAR   │\n",
       "│ SellerState         │ VARCHAR   │\n",
       "│ GeoLocId            │ UUID      │\n",
       "└─────────────────────┴───────────┘"
      ]
     },
     "execution_count": 7,
     "metadata": {},
     "output_type": "execute_result"
    }
   ],
   "source": [
    "# Checking the data types of every column\n",
    "ddb.sql(\n",
    "    '''\n",
    "        SELECT column_name, data_type\n",
    "        FROM information_schema.columns\n",
    "        WHERE table_name = 'dim_sellers';\n",
    "    '''\n",
    ")"
   ]
  },
  {
   "cell_type": "code",
   "execution_count": 8,
   "id": "33c56d82-21c5-4b87-8d1f-ef6094ced75b",
   "metadata": {},
   "outputs": [
    {
     "data": {
      "text/plain": [
       "┌────────────┬──────────┬─────────────────────┬────────────┬─────────────┬──────────┐\n",
       "│ total_rows │ SellerId │ SellerZipCodePrefix │ SellerCity │ SellerState │ GeoLocId │\n",
       "│   int64    │  int64   │        int64        │   int64    │    int64    │  int64   │\n",
       "├────────────┼──────────┼─────────────────────┼────────────┼─────────────┼──────────┤\n",
       "│     385584 │        0 │                   0 │          0 │           0 │        0 │\n",
       "└────────────┴──────────┴─────────────────────┴────────────┴─────────────┴──────────┘"
      ]
     },
     "execution_count": 8,
     "metadata": {},
     "output_type": "execute_result"
    }
   ],
   "source": [
    "# Checking null values in dim_sellers table \n",
    "ddb.sql(\n",
    "    '''\n",
    "        SELECT\n",
    "            COUNT(*) AS total_rows,\n",
    "            COUNT(CASE WHEN SellerId IS NULL THEN 1 END) AS SellerId,\n",
    "            COUNT(CASE WHEN SellerZipCodePrefix IS NULL THEN 1 END) AS SellerZipCodePrefix,\n",
    "            COUNT(CASE WHEN SellerCity IS NULL THEN 1 END) AS SellerCity,\n",
    "            COUNT(CASE WHEN SellerState IS NULL THEN 1 END) AS SellerState,\n",
    "            COUNT(CASE WHEN GeoLocId IS NULL THEN 1 END) AS GeoLocId,\n",
    "        FROM \n",
    "            dim_sellers;\n",
    "    '''\n",
    ")"
   ]
  },
  {
   "cell_type": "code",
   "execution_count": 9,
   "id": "203d2e0a-25e9-481a-8f7e-ffc27fbd34b3",
   "metadata": {},
   "outputs": [],
   "source": [
    "# Checking and changing the datatypes of the dim_customers table to its appropriate data \n",
    "# 1. Add a new column with the correct type\n",
    "ddb.sql('''\n",
    "    ALTER TABLE dim_sellers\n",
    "    ALTER COLUMN SellerZipCodePrefix SET DATA TYPE INT;\n",
    "''')"
   ]
  },
  {
   "cell_type": "code",
   "execution_count": 10,
   "id": "b528ec68-4726-4755-b434-b03ba77df288",
   "metadata": {},
   "outputs": [
    {
     "name": "stdout",
     "output_type": "stream",
     "text": [
      "Data successfully exported to /Users/macintoshcider/Documents/Programming/Python/ETL/climate-commerce/analytics/dim_sellers.csv\n"
     ]
    }
   ],
   "source": [
    "# Define the output directory and ensure it exists\n",
    "output_dir = \"/Users/macintoshcider/Documents/Programming/Python/ETL/climate-commerce/analytics\"\n",
    "output_file = os.path.join(output_dir, \"dim_sellers.csv\")\n",
    "ddb.execute(\n",
    "    f\"\"\"\n",
    "        COPY dim_sellers TO '{output_file}' (FORMAT CSV, HEADER);\n",
    "    \"\"\"\n",
    ")\n",
    "print(f\"Data successfully exported to {output_file}\")"
   ]
  },
  {
   "cell_type": "code",
   "execution_count": 11,
   "id": "fd5e68dd-96fb-43a5-a3d0-573b56ca13a2",
   "metadata": {},
   "outputs": [],
   "source": [
    "# finally closing the duckdb connection\n",
    "ddb.close()"
   ]
  },
  {
   "cell_type": "code",
   "execution_count": null,
   "id": "5588263b-3290-45c4-b70a-24739c5288bb",
   "metadata": {},
   "outputs": [],
   "source": []
  }
 ],
 "metadata": {
  "kernelspec": {
   "display_name": "Python 3 (ipykernel)",
   "language": "python",
   "name": "python3"
  },
  "language_info": {
   "codemirror_mode": {
    "name": "ipython",
    "version": 3
   },
   "file_extension": ".py",
   "mimetype": "text/x-python",
   "name": "python",
   "nbconvert_exporter": "python",
   "pygments_lexer": "ipython3",
   "version": "3.11.9"
  }
 },
 "nbformat": 4,
 "nbformat_minor": 5
}

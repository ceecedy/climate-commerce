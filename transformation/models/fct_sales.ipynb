{
 "cells": [
  {
   "cell_type": "code",
   "execution_count": 1,
   "id": "ddb3fc56-60cc-4e37-bdee-6b8f6ea52df5",
   "metadata": {},
   "outputs": [],
   "source": [
    "import os \n",
    "import duckdb \n",
    "from dotenv import load_dotenv"
   ]
  },
  {
   "cell_type": "code",
   "execution_count": 2,
   "id": "04fe6597-f27d-434d-8bda-7e7518436769",
   "metadata": {},
   "outputs": [],
   "source": [
    "# instanstiating the dotenv to have an access to env vars \n",
    "load_dotenv()\n",
    "\n",
    "# setting up the paths \n",
    "base_path = os.getenv('base_path')\n",
    "database = os.getenv('database_path')"
   ]
  },
  {
   "cell_type": "code",
   "execution_count": 3,
   "id": "e7a1fa9e-c40b-4662-81cd-23c1d7657bdc",
   "metadata": {},
   "outputs": [],
   "source": [
    "# setting up the database path \n",
    "database_path = f\"{database}/database.db\"\n",
    "\n",
    "# connect to the databse file\n",
    "ddb = duckdb.connect(database_path)"
   ]
  },
  {
   "cell_type": "code",
   "execution_count": 4,
   "id": "12784f20-ab45-42b8-9926-b55f82caefd4",
   "metadata": {},
   "outputs": [
    {
     "data": {
      "text/plain": [
       "<duckdb.duckdb.DuckDBPyConnection at 0x110afa670>"
      ]
     },
     "execution_count": 4,
     "metadata": {},
     "output_type": "execute_result"
    }
   ],
   "source": [
    "# create view for the order items dataset \n",
    "ddb.execute(\n",
    "    f'''\n",
    "        CREATE VIEW IF NOT EXISTS view_order_items AS \n",
    "        SELECT *\n",
    "        FROM read_csv_auto('{base_path}/datasets/olist_order_items_dataset.csv');\n",
    "    '''\n",
    ")"
   ]
  },
  {
   "cell_type": "code",
   "execution_count": 5,
   "id": "956b5e03-d8df-4c2a-b204-d8be52eed611",
   "metadata": {},
   "outputs": [
    {
     "data": {
      "text/plain": [
       "<duckdb.duckdb.DuckDBPyConnection at 0x110afa670>"
      ]
     },
     "execution_count": 5,
     "metadata": {},
     "output_type": "execute_result"
    }
   ],
   "source": [
    "# breaking down the creation of fct_table \n",
    "# 1.1\n",
    "ddb.execute(\n",
    "    '''\n",
    "        CREATE TEMPORARY TABLE tmp_orders_data AS\n",
    "        SELECT\n",
    "            o.OrderId,\n",
    "            vo.customer_id,\n",
    "            vo.order_purchase_timestamp,\n",
    "            o.OrderStatus\n",
    "        FROM\n",
    "            dim_orders o\n",
    "        LEFT JOIN view_orders_data vo ON o.OrderId = vo.order_id;\n",
    "    '''\n",
    ")"
   ]
  },
  {
   "cell_type": "code",
   "execution_count": 6,
   "id": "323ca284-2a7f-430f-952b-b1646eeda51b",
   "metadata": {},
   "outputs": [
    {
     "data": {
      "text/plain": [
       "<duckdb.duckdb.DuckDBPyConnection at 0x110afa670>"
      ]
     },
     "execution_count": 6,
     "metadata": {},
     "output_type": "execute_result"
    }
   ],
   "source": [
    "# 1.2 \n",
    "ddb.execute(\n",
    "    '''\n",
    "        CREATE TEMPORARY TABLE tmp_order_items AS\n",
    "        SELECT\n",
    "            voi.order_id,\n",
    "            voi.product_id,\n",
    "            voi.seller_id,\n",
    "            voi.price,\n",
    "            voi.freight_value\n",
    "        FROM\n",
    "            view_order_items voi\n",
    "        LEFT JOIN dim_products p ON voi.product_id = p.ProductId\n",
    "        LEFT JOIN dim_sellers s ON voi.seller_id = s.SellerId;\n",
    "    '''\n",
    ")"
   ]
  },
  {
   "cell_type": "code",
   "execution_count": 7,
   "id": "53f284d8-8715-44f1-8074-50465bd437be",
   "metadata": {},
   "outputs": [
    {
     "data": {
      "text/plain": [
       "<duckdb.duckdb.DuckDBPyConnection at 0x110afa670>"
      ]
     },
     "execution_count": 7,
     "metadata": {},
     "output_type": "execute_result"
    }
   ],
   "source": [
    "# 1.3\n",
    "ddb.execute(\n",
    "    '''\n",
    "        CREATE TEMPORARY TABLE tmp_payments_reviews AS\n",
    "        SELECT\n",
    "            pay.OrderId,\n",
    "            pay.PaymentType,\n",
    "            vr.review_score\n",
    "        FROM\n",
    "            dim_payments pay\n",
    "        LEFT JOIN view_reviews_data vr ON pay.OrderId = vr.order_id;\n",
    "    '''\n",
    ")"
   ]
  },
  {
   "cell_type": "code",
   "execution_count": 8,
   "id": "00f0631c-32fd-4f70-a714-324901cff247",
   "metadata": {},
   "outputs": [
    {
     "data": {
      "text/plain": [
       "<duckdb.duckdb.DuckDBPyConnection at 0x110afa670>"
      ]
     },
     "execution_count": 8,
     "metadata": {},
     "output_type": "execute_result"
    }
   ],
   "source": [
    "# 1.4 (Final)\n",
    "ddb.execute(\n",
    "    '''\n",
    "        CREATE TABLE IF NOT EXISTS fct_sales AS\n",
    "        SELECT\n",
    "            o.OrderId,\n",
    "            o.customer_id,\n",
    "            i.product_id,\n",
    "            i.seller_id,\n",
    "            p.PaymentType,\n",
    "            o.order_purchase_timestamp,\n",
    "            o.OrderStatus,\n",
    "            i.price,\n",
    "            i.freight_value,\n",
    "            p.review_score\n",
    "        FROM\n",
    "            tmp_orders_data o\n",
    "        LEFT JOIN tmp_order_items i ON o.OrderId = i.order_id\n",
    "        LEFT JOIN tmp_payments_reviews p ON o.OrderId = p.OrderId;\n",
    "    '''\n",
    ")"
   ]
  },
  {
   "cell_type": "code",
   "execution_count": 9,
   "id": "94cb3d7d-f30d-4e26-ad39-1d61c0839afc",
   "metadata": {},
   "outputs": [
    {
     "data": {
      "text/plain": [
       "┌──────────────────────────────────┬──────────────────────────────────┬──────────────────────────────────┬──────────────────────────────────┬─────────────┬──────────────────────────┬─────────────┬────────┬───────────────┬──────────────┐\n",
       "│             OrderId              │           customer_id            │            product_id            │            seller_id             │ PaymentType │ order_purchase_timestamp │ OrderStatus │ price  │ freight_value │ review_score │\n",
       "│             varchar              │             varchar              │             varchar              │             varchar              │   varchar   │        timestamp         │   varchar   │ double │    double     │    int64     │\n",
       "├──────────────────────────────────┼──────────────────────────────────┼──────────────────────────────────┼──────────────────────────────────┼─────────────┼──────────────────────────┼─────────────┼────────┼───────────────┼──────────────┤\n",
       "│ 972f5a89813198a05f8dd4463d82f3fc │ 50c7d896c15275b96cca5fc50866500b │ 08574b074924071f4e201e151b152b4e │ 001cca7ae9ae17fb1caed9dfb1094831 │ credit_card │ 2017-05-14 18:35:12      │ delivered   │   99.0 │         38.53 │            5 │\n",
       "│ 973099d5fd52c77163406f2eba72dfc6 │ 4118b74a807396d8c976e9cf09b632e4 │ 6e2c62713ec17c681eacdf653dddb4e5 │ 9df5750209b83567ec144eb299d7d634 │ credit_card │ 2017-12-07 08:01:35      │ delivered   │  548.0 │         37.64 │            1 │\n",
       "│ 9730a429f7355c2dcdbcfef54b638172 │ a613fd651e8ace0cfe8e7b43534d9752 │ 3540941843e8ab59a8a8ed75970562db │ a3a38f4affed601eb87a97788c949667 │ credit_card │ 2017-09-16 12:47:53      │ delivered   │   84.9 │         17.03 │            5 │\n",
       "│ 9731b9dcecf4024f99c9faa130acc841 │ 0f40ab9e9635185fe9b9e42c0f7d4fea │ 9478ba3a27de728ec65cf5048a23f34c │ cca3071e3e9bb7d12640c9fbe2301306 │ credit_card │ 2018-06-20 20:50:25      │ delivered   │  54.72 │         18.48 │            5 │\n",
       "│ 9734c61e70431951ceea6da4c1c2a063 │ 97ba00d9333c050db94cfeef8297c73b │ 3f1361100ad34281edf04ce745f62b89 │ 0241d4d5d36f10f80c644447315af0bd │ credit_card │ 2018-05-11 15:30:22      │ delivered   │  249.0 │         84.44 │            1 │\n",
       "│ 97352341e218f0089a070b1be89f47bf │ 71dfdf073dec8dd60727c8d8e3adb675 │ 76d75f398634bf194ba99d7297e7d1fa │ 974cf2cb8f4b7add98709c30df02fe10 │ debit_card  │ 2018-06-14 08:38:14      │ delivered   │  52.99 │         18.47 │            5 │\n",
       "│ 973548765ef313758de16c641c195baf │ 5b36c9f4f0c829730b0e2a4e5b26aeea │ 6f3b5b605d91b7439c5e3f5a8dffeea7 │ 7d13fca15225358621be4086e1eb0964 │ boleto      │ 2018-05-08 09:15:25      │ delivered   │  145.0 │         18.89 │            5 │\n",
       "│ 9735a2f9279006018ed254377240bf4c │ cda77e1d58299ba7c036175a201d4d8b │ c21390fcf82d68f3a008468547cc3e66 │ 7178f9f4dd81dcef02f62acdf8151e01 │ boleto      │ 2018-01-14 20:01:54      │ delivered   │   14.9 │          15.1 │            4 │\n",
       "│ 9735a2f9279006018ed254377240bf4c │ cda77e1d58299ba7c036175a201d4d8b │ c21390fcf82d68f3a008468547cc3e66 │ 7178f9f4dd81dcef02f62acdf8151e01 │ boleto      │ 2018-01-14 20:01:54      │ delivered   │   14.9 │          15.1 │            4 │\n",
       "│ 97369eeb115806c27ee2054105eabe97 │ 35647e39316747b2bb470dc93ddb67aa │ 2083a6feb4bbb31f6abc92fc24e468c0 │ 18a349e75d307f4b4cc646a691ed4216 │ voucher     │ 2018-05-31 10:45:36      │ delivered   │    5.0 │          7.39 │            5 │\n",
       "│                ·                 │                ·                 │                ·                 │                ·                 │   ·         │          ·               │     ·       │     ·  │            ·  │            · │\n",
       "│                ·                 │                ·                 │                ·                 │                ·                 │   ·         │          ·               │     ·       │     ·  │            ·  │            · │\n",
       "│                ·                 │                ·                 │                ·                 │                ·                 │   ·         │          ·               │     ·       │     ·  │            ·  │            · │\n",
       "│ 96769985957712690cadddb661db2bd3 │ dd43dd0d642c95dad47beb575bdb3ff9 │ c6e474e4e7e08a02bd7153cfe6d68dfc │ 5cf13accae3222c70a9cac40818ae839 │ boleto      │ 2018-08-09 09:34:07      │ delivered   │   99.9 │          15.0 │            5 │\n",
       "│ 9676a8d4d68b73a967fedb5eb0d82c21 │ 6cce36a98cd5c919be3b11396c802228 │ 18486698933fbb64af6c0a255f7dd64c │ 6973a06f484aacf400ece213dbf3d946 │ credit_card │ 2018-04-09 18:41:20      │ delivered   │  83.49 │          7.93 │            5 │\n",
       "│ 9676f1e8ea577fa55c55fdf4f0083a0d │ 2de3c6bbbf7519ebf48c6b28a2416227 │ a5647c44af977b148e0a3a4751a09e2e │ 7c67e1448b00f6e969d365cea6b010ab │ credit_card │ 2017-10-25 09:34:31      │ delivered   │ 149.94 │         29.84 │            3 │\n",
       "│ 967868315b8ce562c1deec7e1ce602a5 │ a947dfb481280eb7ef13c1c05727f340 │ 70906e04da1eebf3d1b8791bd09ffe85 │ 8e6d7754bc7e0f22c96d255ebda59eba │ boleto      │ 2018-01-10 15:27:50      │ delivered   │  79.89 │         57.56 │            4 │\n",
       "│ 967868315b8ce562c1deec7e1ce602a5 │ a947dfb481280eb7ef13c1c05727f340 │ 3516632e8f52b679ff83d1665ecc990e │ e9bc59e7b60fc3063eb2290deda4cced │ boleto      │ 2018-01-10 15:27:50      │ delivered   │   75.9 │          3.86 │            4 │\n",
       "│ 967a1ffa4d1aff6e74e409fd8bc229ce │ 57914af04147062f22b01de2efee289c │ b8762d562d810c2f8d7ad7e9c12957be │ dbb9b48c841a0e39e21f98e1a6b2ec3e │ credit_card │ 2017-10-28 19:05:44      │ delivered   │  29.89 │         16.11 │            5 │\n",
       "│ 967b0e60c5ee39c56e26e3b441c0eaab │ 632dd519b6ef9b17fdde07505296cebb │ 12a3dba07d03c2dedf0c40d6499b55d3 │ 31344c16881c08a8a72c6d2eb29918c1 │ boleto      │ 2017-12-09 12:39:36      │ delivered   │  189.9 │         59.77 │            4 │\n",
       "│ 967ed7a1aa1d6b190c903a3daa815f02 │ 058abae409b8feebc30f284da465a1ff │ 99a4788cb24856965c36a24e339b6058 │ 4a3ca9315b744ce9f8e9374361493884 │ credit_card │ 2017-03-05 15:51:55      │ delivered   │   89.9 │         16.33 │            2 │\n",
       "│ 967ed7a1aa1d6b190c903a3daa815f02 │ 058abae409b8feebc30f284da465a1ff │ 99a4788cb24856965c36a24e339b6058 │ 4a3ca9315b744ce9f8e9374361493884 │ credit_card │ 2017-03-05 15:51:55      │ delivered   │   89.9 │         16.33 │            2 │\n",
       "│ 9680ba40609bc32c996a447ba7564621 │ f687f0de29ec2bd67dc6505ff1fccaf7 │ 4a0938478787f49dc07af734b86be96c │ 6560211a19b47992c3666cc44a7e94c0 │ boleto      │ 2017-05-15 08:50:44      │ delivered   │  149.0 │         15.79 │            5 │\n",
       "├──────────────────────────────────┴──────────────────────────────────┴──────────────────────────────────┴──────────────────────────────────┴─────────────┴──────────────────────────┴─────────────┴────────┴───────────────┴──────────────┤\n",
       "│ ? rows (>9999 rows, 20 shown)                                                                                                                                                                                                 10 columns │\n",
       "└──────────────────────────────────────────────────────────────────────────────────────────────────────────────────────────────────────────────────────────────────────────────────────────────────────────────────────────────────────────┘"
      ]
     },
     "execution_count": 9,
     "metadata": {},
     "output_type": "execute_result"
    }
   ],
   "source": [
    "ddb.sql(\n",
    "    '''\n",
    "        SELECT *\n",
    "        FROM fct_sales;\n",
    "    '''\n",
    ")"
   ]
  },
  {
   "cell_type": "code",
   "execution_count": 13,
   "id": "5b40056e-9411-464b-966e-352df7b49b6f",
   "metadata": {},
   "outputs": [
    {
     "data": {
      "text/plain": [
       "┌───────────────────┬───────────┐\n",
       "│    column_name    │ data_type │\n",
       "│      varchar      │  varchar  │\n",
       "├───────────────────┼───────────┤\n",
       "│ OrderId           │ VARCHAR   │\n",
       "│ CustomerID        │ VARCHAR   │\n",
       "│ ProductId         │ VARCHAR   │\n",
       "│ SellerId          │ VARCHAR   │\n",
       "│ PaymentType       │ VARCHAR   │\n",
       "│ OrderPurchaseDate │ TIMESTAMP │\n",
       "│ OrderStatus       │ VARCHAR   │\n",
       "│ Price             │ DOUBLE    │\n",
       "│ FreightValue      │ DOUBLE    │\n",
       "│ ReviewScore       │ BIGINT    │\n",
       "├───────────────────┴───────────┤\n",
       "│ 10 rows             2 columns │\n",
       "└───────────────────────────────┘"
      ]
     },
     "execution_count": 13,
     "metadata": {},
     "output_type": "execute_result"
    }
   ],
   "source": [
    "# showing all names of the fct_sales \n",
    "ddb.sql(\n",
    "    '''\n",
    "        SELECT column_name, data_type\n",
    "        FROM information_schema.columns\n",
    "        WHERE table_name = 'fct_sales';\n",
    "    '''\n",
    ")"
   ]
  },
  {
   "cell_type": "code",
   "execution_count": 12,
   "id": "1e48425e-5d00-45a6-bea1-8db962ac73e0",
   "metadata": {},
   "outputs": [],
   "source": [
    "# changing names of some columns into appropriate name \n",
    "ddb.sql(\n",
    "    '''\n",
    "        ALTER TABLE fct_sales \n",
    "        RENAME customer_id to CustomerID;\n",
    "    '''\n",
    ")\n",
    "\n",
    "ddb.sql(\n",
    "    '''\n",
    "        ALTER TABLE fct_sales \n",
    "        RENAME product_id to ProductId;\n",
    "    '''\n",
    ")\n",
    "\n",
    "ddb.sql(\n",
    "    '''\n",
    "        ALTER TABLE fct_sales \n",
    "        RENAME seller_id to SellerId;\n",
    "    '''\n",
    ")\n",
    "\n",
    "ddb.sql(\n",
    "    '''\n",
    "        ALTER TABLE fct_sales \n",
    "        RENAME order_purchase_timestamp to OrderPurchaseDate;\n",
    "    '''\n",
    ")\n",
    "\n",
    "ddb.sql(\n",
    "    '''\n",
    "        ALTER TABLE fct_sales \n",
    "        RENAME price to Price;\n",
    "    '''\n",
    ")\n",
    "\n",
    "ddb.sql(\n",
    "    '''\n",
    "        ALTER TABLE fct_sales \n",
    "        RENAME freight_value to FreightValue;\n",
    "    '''\n",
    ")\n",
    "\n",
    "ddb.sql(\n",
    "    '''\n",
    "        ALTER TABLE fct_sales \n",
    "        RENAME review_score to ReviewScore;\n",
    "    '''\n",
    ")"
   ]
  },
  {
   "cell_type": "code",
   "execution_count": 15,
   "id": "d3c3ff53-bc75-485f-84f4-3b1b2293e4e5",
   "metadata": {},
   "outputs": [
    {
     "data": {
      "text/plain": [
       "┌────────────┬─────────┬────────────┬───────────┬──────────┬─────────────┬───────────────────┬─────────────┬───────┬──────────────┬─────────────┐\n",
       "│ total_rows │ OrderId │ CustomerID │ ProductId │ SellerId │ PaymentType │ OrderPurchaseDate │ OrderStatus │ Price │ FreightValue │ ReviewScore │\n",
       "│   int64    │  int64  │   int64    │   int64   │  int64   │    int64    │       int64       │    int64    │ int64 │    int64     │    int64    │\n",
       "├────────────┼─────────┼────────────┼───────────┼──────────┼─────────────┼───────────────────┼─────────────┼───────┼──────────────┼─────────────┤\n",
       "│   15670827 │       0 │          0 │       833 │      833 │         423 │                 0 │           0 │   833 │          833 │      131232 │\n",
       "└────────────┴─────────┴────────────┴───────────┴──────────┴─────────────┴───────────────────┴─────────────┴───────┴──────────────┴─────────────┘"
      ]
     },
     "execution_count": 15,
     "metadata": {},
     "output_type": "execute_result"
    }
   ],
   "source": [
    "# Checking null values in fct_sales table \n",
    "ddb.sql(\n",
    "    '''\n",
    "        SELECT\n",
    "            COUNT(*) AS total_rows,\n",
    "            COUNT(CASE WHEN OrderId IS NULL THEN 1 END) AS OrderId,\n",
    "            COUNT(CASE WHEN CustomerID IS NULL THEN 1 END) AS CustomerID,\n",
    "            COUNT(CASE WHEN ProductId IS NULL THEN 1 END) AS ProductId,\n",
    "            COUNT(CASE WHEN SellerId IS NULL THEN 1 END) AS SellerId,\n",
    "            COUNT(CASE WHEN PaymentType IS NULL THEN 1 END) AS PaymentType,\n",
    "            COUNT(CASE WHEN OrderPurchaseDate IS NULL THEN 1 END) AS OrderPurchaseDate,\n",
    "            COUNT(CASE WHEN OrderStatus IS NULL THEN 1 END) AS OrderStatus,\n",
    "            COUNT(CASE WHEN Price IS NULL THEN 1 END) AS Price,\n",
    "            COUNT(CASE WHEN FreightValue IS NULL THEN 1 END) AS FreightValue,\n",
    "            COUNT(CASE WHEN ReviewScore IS NULL THEN 1 END) AS ReviewScore,\n",
    "            \n",
    "        FROM \n",
    "            fct_sales;\n",
    "    '''\n",
    ")"
   ]
  },
  {
   "cell_type": "code",
   "execution_count": 17,
   "id": "a7344eab-2617-4e86-a337-2eaa557ebbfa",
   "metadata": {},
   "outputs": [
    {
     "data": {
      "text/plain": [
       "┌───────────────────┬───────────┐\n",
       "│    column_name    │ data_type │\n",
       "│      varchar      │  varchar  │\n",
       "├───────────────────┼───────────┤\n",
       "│ OrderId           │ VARCHAR   │\n",
       "│ CustomerID        │ VARCHAR   │\n",
       "│ ProductId         │ VARCHAR   │\n",
       "│ SellerId          │ VARCHAR   │\n",
       "│ PaymentType       │ VARCHAR   │\n",
       "│ OrderPurchaseDate │ TIMESTAMP │\n",
       "│ OrderStatus       │ VARCHAR   │\n",
       "│ Price             │ DOUBLE    │\n",
       "│ FreightValue      │ DOUBLE    │\n",
       "│ ReviewScore       │ INTEGER   │\n",
       "├───────────────────┴───────────┤\n",
       "│ 10 rows             2 columns │\n",
       "└───────────────────────────────┘"
      ]
     },
     "execution_count": 17,
     "metadata": {},
     "output_type": "execute_result"
    }
   ],
   "source": [
    "# showing all names of the fct_sales \n",
    "ddb.sql(\n",
    "    '''\n",
    "        SELECT column_name, data_type\n",
    "        FROM information_schema.columns\n",
    "        WHERE table_name = 'fct_sales';\n",
    "    '''\n",
    ")"
   ]
  },
  {
   "cell_type": "code",
   "execution_count": 16,
   "id": "7b3f2bc0-0c73-438d-a530-e4872c78ebe0",
   "metadata": {},
   "outputs": [],
   "source": [
    "# changing data type - review score \n",
    "ddb.sql(\n",
    "    '''\n",
    "        ALTER TABLE fct_sales \n",
    "        ALTER COLUMN ReviewScore SET DATA TYPE INT;\n",
    "    '''\n",
    ")"
   ]
  },
  {
   "cell_type": "code",
   "execution_count": 18,
   "id": "53bf04f6-5325-40d6-b79e-02b80786e8d8",
   "metadata": {},
   "outputs": [
    {
     "name": "stdout",
     "output_type": "stream",
     "text": [
      "Data successfully exported to /Users/macintoshcider/Documents/Programming/Python/ETL/climate-commerce/analytics/fct_sales.csv\n"
     ]
    }
   ],
   "source": [
    "# Define the output directory and ensure it exists\n",
    "output_dir = \"/Users/macintoshcider/Documents/Programming/Python/ETL/climate-commerce/analytics\"\n",
    "output_file = os.path.join(output_dir, \"fct_sales.csv\")\n",
    "ddb.execute(\n",
    "    f\"\"\"\n",
    "        COPY fct_sales TO '{output_file}' (FORMAT CSV, HEADER);\n",
    "    \"\"\"\n",
    ")\n",
    "print(f\"Data successfully exported to {output_file}\")"
   ]
  },
  {
   "cell_type": "code",
   "execution_count": 19,
   "id": "c5606722-8b38-4bf1-9631-697ae6747056",
   "metadata": {},
   "outputs": [],
   "source": [
    "# finally close the connection instance \n",
    "ddb.close()"
   ]
  },
  {
   "cell_type": "code",
   "execution_count": null,
   "id": "cdc37938-2bd7-48f9-b50e-1ff9928c88bf",
   "metadata": {},
   "outputs": [],
   "source": []
  }
 ],
 "metadata": {
  "kernelspec": {
   "display_name": "Python 3 (ipykernel)",
   "language": "python",
   "name": "python3"
  },
  "language_info": {
   "codemirror_mode": {
    "name": "ipython",
    "version": 3
   },
   "file_extension": ".py",
   "mimetype": "text/x-python",
   "name": "python",
   "nbconvert_exporter": "python",
   "pygments_lexer": "ipython3",
   "version": "3.11.9"
  }
 },
 "nbformat": 4,
 "nbformat_minor": 5
}

{
 "cells": [
  {
   "cell_type": "code",
   "execution_count": 23,
   "id": "c9392714-6c5a-4d3b-ba0c-00ce760a1271",
   "metadata": {},
   "outputs": [],
   "source": [
    "import os \n",
    "import duckdb \n",
    "from dotenv import load_dotenv"
   ]
  },
  {
   "cell_type": "code",
   "execution_count": 24,
   "id": "8d494190-25f6-4f0e-96e7-d8a0739f7ab4",
   "metadata": {},
   "outputs": [],
   "source": [
    "# instantiate the load_dotenv to access the env's \n",
    "load_dotenv()\n",
    "\n",
    "# setting up the paths \n",
    "base_path = os.getenv('base_path')\n",
    "database = os.getenv('database_path')"
   ]
  },
  {
   "cell_type": "code",
   "execution_count": 26,
   "id": "d68a97e9-1b64-40d3-88fc-8ab687730afe",
   "metadata": {},
   "outputs": [],
   "source": [
    "# setting up the database path \n",
    "database_path = f\"{database}/database.db\"\n",
    "\n",
    "# loading the database file \n",
    "ddb = duckdb.connect(database_path)"
   ]
  },
  {
   "cell_type": "code",
   "execution_count": 29,
   "id": "a5665d1d-ca7e-49a8-85c0-190830ae870d",
   "metadata": {},
   "outputs": [
    {
     "data": {
      "text/plain": [
       "<duckdb.duckdb.DuckDBPyConnection at 0x10ce19070>"
      ]
     },
     "execution_count": 29,
     "metadata": {},
     "output_type": "execute_result"
    }
   ],
   "source": [
    "# creating a view for reviews data. \n",
    "ddb.execute(\n",
    "    f'''\n",
    "        CREATE VIEW IF NOT EXISTS view_reviews_data AS \n",
    "        SELECT *\n",
    "        FROM read_csv_auto('{base_path}/datasets/olist_order_reviews_dataset.csv');\n",
    "    '''\n",
    ")"
   ]
  },
  {
   "cell_type": "code",
   "execution_count": 31,
   "id": "0618a41c-cf97-442a-b134-512025857b74",
   "metadata": {},
   "outputs": [
    {
     "data": {
      "text/plain": [
       "<duckdb.duckdb.DuckDBPyConnection at 0x10ce19070>"
      ]
     },
     "execution_count": 31,
     "metadata": {},
     "output_type": "execute_result"
    }
   ],
   "source": [
    "# ingesting reviews data and create is relationships \n",
    "ddb.execute(\n",
    "    '''\n",
    "        CREATE TABLE IF NOT EXISTS dim_reviews AS \n",
    "        SELECT \n",
    "            review_id AS ReviewId,\n",
    "            order_id AS OrderId,\n",
    "            review_comment_title AS CommentTitle,\n",
    "            review_comment_message AS ReviewCommentMsg,\n",
    "            review_creation_date AS ReviewCreationDate,\n",
    "            review_answer_timestamp AS ReviewAnswerTimestamp,\n",
    "        FROM \n",
    "            view_reviews_data;\n",
    "    '''\n",
    ")"
   ]
  },
  {
   "cell_type": "code",
   "execution_count": 32,
   "id": "188ac79a-80d3-496b-bd2b-9e1087a38edd",
   "metadata": {},
   "outputs": [
    {
     "data": {
      "text/plain": [
       "┌──────────────────────────────────┬──────────────────────────────────┬───────────────┬─────────────────────────────────────────────────────────────────────────────────────────────────────────────────────────────────────────────────────────────────────────────────────────────────┬─────────────────────┬───────────────────────┐\n",
       "│             ReviewId             │             OrderId              │ CommentTitle  │                                                                                        ReviewCommentMsg                                                                                         │ ReviewCreationDate  │ ReviewAnswerTimestamp │\n",
       "│             varchar              │             varchar              │    varchar    │                                                                                             varchar                                                                                             │      timestamp      │       timestamp       │\n",
       "├──────────────────────────────────┼──────────────────────────────────┼───────────────┼─────────────────────────────────────────────────────────────────────────────────────────────────────────────────────────────────────────────────────────────────────────────────────────────────┼─────────────────────┼───────────────────────┤\n",
       "│ 7bc2406110b926393aa56f80a40eba40 │ 73fc7af87114b39712e6da79b0a377eb │ NULL          │ NULL                                                                                                                                                                                            │ 2018-01-18 00:00:00 │ 2018-01-18 21:46:59   │\n",
       "│ 80e641a11e56f04c1ad469d5645fdfde │ a548910a1c6147796b98fdf73dbeba33 │ NULL          │ NULL                                                                                                                                                                                            │ 2018-03-10 00:00:00 │ 2018-03-11 03:05:13   │\n",
       "│ 228ce5500dc1d8e020d8d1322874b6f0 │ f9e4b658b201a9f2ecdecbb34bed034b │ NULL          │ NULL                                                                                                                                                                                            │ 2018-02-17 00:00:00 │ 2018-02-18 14:36:24   │\n",
       "│ e64fb393e7b32834bb789ff8bb30750e │ 658677c97b385a9be170737859d3511b │ NULL          │ Recebi bem antes do prazo estipulado.                                                                                                                                                           │ 2017-04-21 00:00:00 │ 2017-04-21 22:02:06   │\n",
       "│ f7c4243c7fe1938f181bec41a392bdeb │ 8e6bfb81e283fa7e4f11123a3fb894f1 │ NULL          │ Parabéns lojas lannister adorei comprar pela Internet seguro e prático Parabéns a todos feliz Páscoa                                                                                            │ 2018-03-01 00:00:00 │ 2018-03-02 10:26:53   │\n",
       "│ 15197aa66ff4d0650b5434f1b46cda19 │ b18dcdf73be66366873cd26c5724d1dc │ NULL          │ NULL                                                                                                                                                                                            │ 2018-04-13 00:00:00 │ 2018-04-16 00:39:37   │\n",
       "│ 07f9bee5d1b850860defd761afa7ff16 │ e48aa0d2dcec3a2e87348811bcfdf22b │ NULL          │ NULL                                                                                                                                                                                            │ 2017-07-16 00:00:00 │ 2017-07-18 19:30:34   │\n",
       "│ 7c6400515c67679fbee952a7525281ef │ c31a859e34e3adac22f376954e19b39d │ NULL          │ NULL                                                                                                                                                                                            │ 2018-08-14 00:00:00 │ 2018-08-14 21:36:06   │\n",
       "│ a3f6f7f6f433de0aefbb97da197c554c │ 9c214ac970e84273583ab523dfafd09b │ NULL          │ NULL                                                                                                                                                                                            │ 2017-05-17 00:00:00 │ 2017-05-18 12:05:37   │\n",
       "│ 8670d52e15e00043ae7de4c01cc2fe06 │ b9bf720beb4ab3728760088589c62129 │ recomendo     │ aparelho eficiente. no site a marca do aparelho esta impresso como 3desinfector e ao chegar esta com outro nome...atualizar com a marca correta uma vez que é o mesmo aparelho                  │ 2018-05-22 00:00:00 │ 2018-05-23 16:45:47   │\n",
       "│                ·                 │                ·                 │    ·          │                                                                             ·                                                                                                                   │          ·          │          ·            │\n",
       "│                ·                 │                ·                 │    ·          │                                                                             ·                                                                                                                   │          ·          │          ·            │\n",
       "│                ·                 │                ·                 │    ·          │                                                                             ·                                                                                                                   │          ·          │          ·            │\n",
       "│ f8ac2ca757c6702a8f7b9f82a3361b54 │ b77e196ee314322dcec6124fa3e38b6b │ A boneca      │ A boneca não é igual a imagem que está no site, por isso fiquei bem desapontado, pois sempre que comprei algumas coisas por esse site eram bem atendidas                                        │ 2018-08-29 00:00:00 │ 2018-09-02 16:27:56   │\n",
       "│ c5b14992eb69dc68e3e855cd95f0ed57 │ 7b374a3cd8b325fd49e6789ccfa88639 │ NULL          │ NULL                                                                                                                                                                                            │ 2018-05-19 00:00:00 │ 2018-05-21 18:16:28   │\n",
       "│ c210b4ed36c4ce629a8ce851be0d5828 │ de1c6db658e84e0ba847b2c1bc857bb5 │ NULL          │ Não veio o que foi pedido!!                                                                                                                                                                     │ 2018-04-17 00:00:00 │ 2018-04-17 22:55:46   │\n",
       "│ 110160bcffa1c9bef8b1868aba109cf1 │ 930fff097a9427c8a9a70559aa36fa76 │ NULL          │ Produto lindo! De ótima qualidade                                                                                                                                                               │ 2018-08-31 00:00:00 │ 2018-09-03 00:11:20   │\n",
       "│ 3dd6dd8bd30dd50a2b15328239cfcd91 │ acfa87544c19d596707d25cf2f7dab61 │ nao entregou  │ nao entregou o pedido dentro do prazo ja solicitei cancelamento                                                                                                                                 │ 2018-08-25 00:00:00 │ 2018-08-27 03:32:14   │\n",
       "│ 6a1edd1c07b9ceb1a031a9e3d0a0c69a │ 4ac735cd851ba30e7b280f7e045544a0 │ NULL          │ NULL                                                                                                                                                                                            │ 2017-09-29 00:00:00 │ 2017-09-30 09:51:15   │\n",
       "│ a2e0d982abe0a650156ec056ca4d1b85 │ a4244008bc97ae9cdc3807237fa83229 │ Satisfeita    │ Entrega no prazo combinado , chegou certinho recomendo esse loja                                                                                                                                │ 2018-07-04 00:00:00 │ 2018-07-07 15:50:37   │\n",
       "│ c5ab0934968065d986a65f00567d4c54 │ 8d74231228bdbc2e89fc0125abfc1c87 │ NULL          │ entrega rápida, produto certo. Só não dou mais estrelas pra stark, pois uma vez comprei um produto que depois arrependi e eles nao trocaram p mim ate hj o produto esta parado fechado lacrado. │ 2017-08-11 00:00:00 │ 2017-08-12 03:30:12   │\n",
       "│ db5a5956ff1b3b42cea50a82a54bf781 │ 1644056a29868cbba3251a81fae0e1f8 │ NULL          │ NULL                                                                                                                                                                                            │ 2017-05-24 00:00:00 │ 2017-05-24 13:02:42   │\n",
       "│ 78fa666f7808563cf40c8eac105316bf │ 2a19516124bb3d5f4d0d07555104e322 │ NULL          │ NULL                                                                                                                                                                                            │ 2017-03-17 00:00:00 │ 2017-03-19 21:48:51   │\n",
       "├──────────────────────────────────┴──────────────────────────────────┴───────────────┴─────────────────────────────────────────────────────────────────────────────────────────────────────────────────────────────────────────────────────────────────────────────────────────────────┴─────────────────────┴───────────────────────┤\n",
       "│ ? rows (>9999 rows, 20 shown)                                                                                                                                                                                                                                                                                             6 columns │\n",
       "└─────────────────────────────────────────────────────────────────────────────────────────────────────────────────────────────────────────────────────────────────────────────────────────────────────────────────────────────────────────────────────────────────────────────────────────────────────────────────────────────────────┘"
      ]
     },
     "execution_count": 32,
     "metadata": {},
     "output_type": "execute_result"
    }
   ],
   "source": [
    "ddb.sql(\n",
    "    '''\n",
    "        SELECT * FROM dim_reviews;\n",
    "    '''\n",
    ")"
   ]
  },
  {
   "cell_type": "code",
   "execution_count": 33,
   "id": "eb0009e8-a3e6-4526-8d83-f14dd85a6d28",
   "metadata": {},
   "outputs": [
    {
     "data": {
      "text/plain": [
       "┌───────────────────────┬───────────┐\n",
       "│      column_name      │ data_type │\n",
       "│        varchar        │  varchar  │\n",
       "├───────────────────────┼───────────┤\n",
       "│ ReviewId              │ VARCHAR   │\n",
       "│ OrderId               │ VARCHAR   │\n",
       "│ CommentTitle          │ VARCHAR   │\n",
       "│ ReviewCommentMsg      │ VARCHAR   │\n",
       "│ ReviewCreationDate    │ TIMESTAMP │\n",
       "│ ReviewAnswerTimestamp │ TIMESTAMP │\n",
       "└───────────────────────┴───────────┘"
      ]
     },
     "execution_count": 33,
     "metadata": {},
     "output_type": "execute_result"
    }
   ],
   "source": [
    "# Checking the data types of every column\n",
    "ddb.sql(\n",
    "    '''\n",
    "        SELECT column_name, data_type\n",
    "        FROM information_schema.columns\n",
    "        WHERE table_name = 'dim_reviews';\n",
    "    '''\n",
    ")"
   ]
  },
  {
   "cell_type": "code",
   "execution_count": 37,
   "id": "493efc29-c61e-42ee-934c-4b816dc8ef94",
   "metadata": {},
   "outputs": [
    {
     "data": {
      "text/plain": [
       "┌────────────┬──────────┬─────────┬──────────────┬──────────────────┬────────────────────┬───────────────────────┐\n",
       "│ total_rows │ ReviewId │ OrderId │ CommentTitle │ ReviewCommentMsg │ ReviewCreationDate │ ReviewAnswerTimestamp │\n",
       "│   int64    │  int64   │  int64  │    int64     │      int64       │       int64        │         int64         │\n",
       "├────────────┼──────────┼─────────┼──────────────┼──────────────────┼────────────────────┼───────────────────────┤\n",
       "│      40977 │        0 │       0 │            0 │                0 │                  0 │                     0 │\n",
       "└────────────┴──────────┴─────────┴──────────────┴──────────────────┴────────────────────┴───────────────────────┘"
      ]
     },
     "execution_count": 37,
     "metadata": {},
     "output_type": "execute_result"
    }
   ],
   "source": [
    "# Checking null values in dim_reviews table \n",
    "ddb.sql(\n",
    "    '''\n",
    "        SELECT\n",
    "            COUNT(*) AS total_rows,\n",
    "            COUNT(CASE WHEN ReviewId IS NULL THEN 1 END) AS ReviewId,\n",
    "            COUNT(CASE WHEN OrderId IS NULL THEN 1 END) AS OrderId,\n",
    "            COUNT(CASE WHEN CommentTitle IS NULL THEN 1 END) AS CommentTitle,\n",
    "            COUNT(CASE WHEN ReviewCommentMsg IS NULL THEN 1 END) AS ReviewCommentMsg,\n",
    "            COUNT(CASE WHEN ReviewCreationDate IS NULL THEN 1 END) AS ReviewCreationDate,\n",
    "            COUNT(CASE WHEN ReviewAnswerTimestamp IS NULL THEN 1 END) AS ReviewAnswerTimestamp,\n",
    "        FROM \n",
    "            dim_reviews;\n",
    "    '''\n",
    ")"
   ]
  },
  {
   "cell_type": "code",
   "execution_count": 35,
   "id": "6c8c451e-2c93-46a6-a664-63e2ccfaf330",
   "metadata": {},
   "outputs": [],
   "source": [
    "# Cleaning - Comment message. \n",
    "ddb.sql(\n",
    "    '''\n",
    "        DELETE FROM dim_reviews \n",
    "        WHERE ReviewCommentMsg is NULL;\n",
    "    '''\n",
    ")"
   ]
  },
  {
   "cell_type": "code",
   "execution_count": 36,
   "id": "206bc448-b9ea-40b8-9906-617191ad567e",
   "metadata": {},
   "outputs": [],
   "source": [
    "# Cleaning - Comment title \n",
    "ddb.sql(\n",
    "    '''\n",
    "        UPDATE dim_reviews\n",
    "        SET CommentTitle = CASE WHEN CommentTitle IS NULL THEN 'No Title' ELSE CommentTitle END;\n",
    "    '''\n",
    ")"
   ]
  },
  {
   "cell_type": "code",
   "execution_count": 38,
   "id": "e303933c-76ca-4612-8e2e-5ff0396d7eeb",
   "metadata": {},
   "outputs": [
    {
     "name": "stdout",
     "output_type": "stream",
     "text": [
      "Data successfully exported to /Users/macintoshcider/Documents/Programming/Python/ETL/climate-commerce/analytics/dim_reviews.csv\n"
     ]
    }
   ],
   "source": [
    "# Define the output directory and ensure it exists\n",
    "output_dir = \"/Users/macintoshcider/Documents/Programming/Python/ETL/climate-commerce/analytics\"\n",
    "output_file = os.path.join(output_dir, \"dim_reviews.csv\")\n",
    "ddb.execute(\n",
    "    f\"\"\"\n",
    "        COPY dim_reviews TO '{output_file}' (FORMAT CSV, HEADER);\n",
    "    \"\"\"\n",
    ")\n",
    "print(f\"Data successfully exported to {output_file}\")"
   ]
  },
  {
   "cell_type": "code",
   "execution_count": 39,
   "id": "986d80f5-ac91-4564-b824-5929a3cdebc4",
   "metadata": {},
   "outputs": [],
   "source": [
    "# finally close the connection instance \n",
    "ddb.close()"
   ]
  },
  {
   "cell_type": "code",
   "execution_count": null,
   "id": "ab18be56-1854-4775-a1a8-346a82fbc753",
   "metadata": {},
   "outputs": [],
   "source": []
  }
 ],
 "metadata": {
  "kernelspec": {
   "display_name": "Python 3 (ipykernel)",
   "language": "python",
   "name": "python3"
  },
  "language_info": {
   "codemirror_mode": {
    "name": "ipython",
    "version": 3
   },
   "file_extension": ".py",
   "mimetype": "text/x-python",
   "name": "python",
   "nbconvert_exporter": "python",
   "pygments_lexer": "ipython3",
   "version": "3.11.9"
  }
 },
 "nbformat": 4,
 "nbformat_minor": 5
}

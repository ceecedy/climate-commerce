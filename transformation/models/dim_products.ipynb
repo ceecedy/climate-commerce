{
 "cells": [
  {
   "cell_type": "code",
   "execution_count": 1,
   "id": "41efd58d-9144-4fa7-b8f0-3a4b83f770b0",
   "metadata": {},
   "outputs": [],
   "source": [
    "import os \n",
    "import duckdb \n",
    "from dotenv import load_dotenv"
   ]
  },
  {
   "cell_type": "code",
   "execution_count": 3,
   "id": "d5234895-9f15-442f-ac2d-5628ae845e7c",
   "metadata": {},
   "outputs": [],
   "source": [
    "# instanstiating dotenv to access all env's \n",
    "load_dotenv()\n",
    "\n",
    "# setting up the paths needed \n",
    "base_path = os.getenv('base_path')\n",
    "database = os.getenv('database_path')"
   ]
  },
  {
   "cell_type": "code",
   "execution_count": 4,
   "id": "79f6965f-d978-47cd-ba60-2d9fb876a7a1",
   "metadata": {},
   "outputs": [],
   "source": [
    "# setting up the database path \n",
    "database_path = f\"{database}/database.db\"\n",
    "\n",
    "# connecting to the database file \n",
    "ddb = duckdb.connect(database_path)"
   ]
  },
  {
   "cell_type": "code",
   "execution_count": 5,
   "id": "2b6366e0-fae6-40fe-adef-dd6320c377c6",
   "metadata": {},
   "outputs": [
    {
     "data": {
      "text/plain": [
       "<duckdb.duckdb.DuckDBPyConnection at 0x103ea23f0>"
      ]
     },
     "execution_count": 5,
     "metadata": {},
     "output_type": "execute_result"
    }
   ],
   "source": [
    "# ingesting the dim_products with its translation, create is relationships also \n",
    "ddb.execute(\n",
    "    '''\n",
    "        CREATE TABLE IF NOT EXISTS dim_products AS\n",
    "        SELECT \n",
    "            p.*,\n",
    "            t.product_category_name_english\n",
    "        FROM \n",
    "            read_csv_auto(?) p\n",
    "        JOIN\n",
    "            read_csv_auto(?) t\n",
    "        ON \n",
    "            p.product_category_name = t.product_category_name;\n",
    "    ''',\n",
    "    (f\"{base_path}/datasets/olist_products_dataset.csv\", f\"{base_path}/datasets/product_category_name_translation.csv\",)\n",
    ")"
   ]
  },
  {
   "cell_type": "code",
   "execution_count": 11,
   "id": "c5ab7731-74c3-4601-810d-0d4b22008187",
   "metadata": {},
   "outputs": [
    {
     "data": {
      "text/plain": [
       "┌─────────────────────┬───────────┐\n",
       "│     column_name     │ data_type │\n",
       "│       varchar       │  varchar  │\n",
       "├─────────────────────┼───────────┤\n",
       "│ ProductId           │ VARCHAR   │\n",
       "│ CategoryName        │ VARCHAR   │\n",
       "│ NameLength          │ BIGINT    │\n",
       "│ DescriptionLength   │ BIGINT    │\n",
       "│ ProductPhotosQty    │ BIGINT    │\n",
       "│ ProductWeightInG    │ BIGINT    │\n",
       "│ ProductLengthCM     │ BIGINT    │\n",
       "│ ProductHeightCM     │ BIGINT    │\n",
       "│ ProductWidthCM      │ BIGINT    │\n",
       "│ CategoryNameEnglish │ VARCHAR   │\n",
       "├─────────────────────┴───────────┤\n",
       "│ 10 rows               2 columns │\n",
       "└─────────────────────────────────┘"
      ]
     },
     "execution_count": 11,
     "metadata": {},
     "output_type": "execute_result"
    }
   ],
   "source": [
    "ddb.sql(\n",
    "    '''\n",
    "        SELECT column_name, data_type\n",
    "        FROM information_schema.columns\n",
    "        WHERE table_name = 'dim_products';\n",
    "    '''\n",
    ")"
   ]
  },
  {
   "cell_type": "code",
   "execution_count": 9,
   "id": "50f0f687-a412-49cd-93b0-e9cbfcfba193",
   "metadata": {},
   "outputs": [],
   "source": [
    "# renaming the column names in the dim_products. \n",
    "ddb.sql(\n",
    "    '''\n",
    "        ALTER TABLE dim_products\n",
    "        RENAME product_id TO ProductId;\n",
    "    '''\n",
    ")\n",
    "\n",
    "ddb.sql(\n",
    "    '''\n",
    "        ALTER TABLE dim_products \n",
    "        RENAME product_category_name TO CategoryName;\n",
    "    '''\n",
    ")\n",
    "\n",
    "ddb.sql(\n",
    "    '''\n",
    "        ALTER TABLE dim_products \n",
    "        RENAME product_name_lenght TO NameLength;\n",
    "    '''\n",
    ")\n",
    "\n",
    "ddb.sql(\n",
    "    '''\n",
    "        ALTER TABLE dim_products \n",
    "        RENAME product_description_lenght TO DescriptionLength;\n",
    "    '''\n",
    ")\n",
    "\n",
    "ddb.sql(\n",
    "    '''\n",
    "        ALTER TABLE dim_products \n",
    "        RENAME product_photos_qty TO ProductPhotosQty;\n",
    "    '''\n",
    ")\n",
    "\n",
    "ddb.sql(\n",
    "    '''\n",
    "        ALTER TABLE dim_products \n",
    "        RENAME product_weight_g TO ProductWeightInG;\n",
    "    '''\n",
    ")\n",
    "\n",
    "ddb.sql(\n",
    "    '''\n",
    "        ALTER TABLE dim_products \n",
    "        RENAME product_length_cm TO ProductLengthCM;\n",
    "    '''\n",
    ")\n",
    "\n",
    "ddb.sql(\n",
    "    '''\n",
    "        ALTER TABLE dim_products \n",
    "        RENAME product_height_cm TO ProductHeightCM;\n",
    "    '''\n",
    ")\n",
    "\n",
    "ddb.sql(\n",
    "    '''\n",
    "        ALTER TABLE dim_products \n",
    "        RENAME product_width_cm TO ProductWidthCM;\n",
    "    '''\n",
    ")\n",
    "\n",
    "ddb.sql(\n",
    "    '''\n",
    "        ALTER TABLE dim_products \n",
    "        RENAME product_category_name_english TO CategoryNameEnglish;\n",
    "    '''\n",
    ")"
   ]
  },
  {
   "cell_type": "code",
   "execution_count": 23,
   "id": "cdd3c92e-6ef9-4684-9fa4-07159180022e",
   "metadata": {},
   "outputs": [
    {
     "data": {
      "text/plain": [
       "┌─────────────────────┬───────────┐\n",
       "│     column_name     │ data_type │\n",
       "│       varchar       │  varchar  │\n",
       "├─────────────────────┼───────────┤\n",
       "│ ProductId           │ VARCHAR   │\n",
       "│ CategoryName        │ VARCHAR   │\n",
       "│ NameLength          │ INTEGER   │\n",
       "│ DescriptionLength   │ INTEGER   │\n",
       "│ ProductPhotosQty    │ INTEGER   │\n",
       "│ ProductWeightInG    │ INTEGER   │\n",
       "│ ProductLengthCM     │ INTEGER   │\n",
       "│ ProductHeightCM     │ INTEGER   │\n",
       "│ ProductWidthCM      │ INTEGER   │\n",
       "│ CategoryNameEnglish │ VARCHAR   │\n",
       "├─────────────────────┴───────────┤\n",
       "│ 10 rows               2 columns │\n",
       "└─────────────────────────────────┘"
      ]
     },
     "execution_count": 23,
     "metadata": {},
     "output_type": "execute_result"
    }
   ],
   "source": [
    "ddb.sql(\n",
    "    '''\n",
    "        SELECT column_name, data_type\n",
    "        FROM information_schema.columns\n",
    "        WHERE table_name = 'dim_products';\n",
    "    '''\n",
    ")"
   ]
  },
  {
   "cell_type": "code",
   "execution_count": 21,
   "id": "380e8d78-9a38-4745-b208-99a815f8e7b4",
   "metadata": {},
   "outputs": [
    {
     "data": {
      "text/plain": [
       "┌────────────┬───────────┬──────────────┬────────────┬───────────────────┬──────────────────┬──────────────────┬─────────────────┬─────────────────┬────────────────┬─────────────────────┐\n",
       "│ total_rows │ ProductId │ CategoryName │ NameLength │ DescriptionLength │ ProductPhotosQty │ ProductWeightInG │ ProductLengthCM │ ProductHeightCM │ ProductWidthCM │ CategoryNameEnglish │\n",
       "│   int64    │   int64   │    int64     │   int64    │       int64       │      int64       │      int64       │      int64      │      int64      │     int64      │        int64        │\n",
       "├────────────┼───────────┼──────────────┼────────────┼───────────────────┼──────────────────┼──────────────────┼─────────────────┼─────────────────┼────────────────┼─────────────────────┤\n",
       "│      32328 │         0 │            0 │          0 │                 0 │                0 │                0 │               0 │               0 │              0 │                   0 │\n",
       "└────────────┴───────────┴──────────────┴────────────┴───────────────────┴──────────────────┴──────────────────┴─────────────────┴─────────────────┴────────────────┴─────────────────────┘"
      ]
     },
     "execution_count": 21,
     "metadata": {},
     "output_type": "execute_result"
    }
   ],
   "source": [
    "# Checking null values in dim_products table \n",
    "ddb.sql(\n",
    "    '''\n",
    "        SELECT\n",
    "            COUNT(*) AS total_rows,\n",
    "            COUNT(CASE WHEN ProductId IS NULL THEN 1 END) AS ProductId,\n",
    "            COUNT(CASE WHEN CategoryName IS NULL THEN 1 END) AS CategoryName,\n",
    "            COUNT(CASE WHEN NameLength IS NULL THEN 1 END) AS NameLength,\n",
    "            COUNT(CASE WHEN DescriptionLength IS NULL THEN 1 END) AS DescriptionLength,\n",
    "            COUNT(CASE WHEN ProductPhotosQty IS NULL THEN 1 END) AS ProductPhotosQty,\n",
    "            COUNT(CASE WHEN ProductWeightInG IS NULL THEN 1 END) AS ProductWeightInG,\n",
    "            COUNT(CASE WHEN ProductLengthCM IS NULL THEN 1 END) AS ProductLengthCM,\n",
    "            COUNT(CASE WHEN ProductHeightCM IS NULL THEN 1 END) AS ProductHeightCM,\n",
    "            COUNT(CASE WHEN ProductWidthCM IS NULL THEN 1 END) AS ProductWidthCM,\n",
    "            COUNT(CASE WHEN CategoryNameEnglish IS NULL THEN 1 END) AS CategoryNameEnglish,\n",
    "            \n",
    "        FROM \n",
    "            dim_products;\n",
    "    '''\n",
    ")"
   ]
  },
  {
   "cell_type": "code",
   "execution_count": 20,
   "id": "07bf8d0f-d69f-4fe5-baff-fd40b564b7b5",
   "metadata": {},
   "outputs": [],
   "source": [
    "# cleaning null values - product weight in grams and product length in cm \n",
    "ddb.sql(\n",
    "    '''\n",
    "        UPDATE dim_products\n",
    "        SET \n",
    "            ProductWeightInG = -1,\n",
    "            ProductLengthCM = -1,\n",
    "            ProductHeightCM = -1,\n",
    "            ProductWidthCM = -1,\n",
    "        WHERE \n",
    "            ProductWeightInG is NULL OR ProductLengthCM is NULL OR ProductHeightCM is NULL OR ProductWidthCM is NULL;\n",
    "    '''\n",
    ")\n",
    "# setting them up to negative 1 to indicate that the value on the specific column is not given. "
   ]
  },
  {
   "cell_type": "code",
   "execution_count": 22,
   "id": "29608494-bd77-4c2f-8d7b-b64f78c2871f",
   "metadata": {},
   "outputs": [],
   "source": [
    "# changing the numeric columns datatypes \n",
    "ddb.sql(\n",
    "    '''\n",
    "        ALTER TABLE dim_products \n",
    "        ALTER COLUMN NameLength SET DATA TYPE INT;\n",
    "    '''\n",
    ")\n",
    "\n",
    "ddb.sql(\n",
    "    '''\n",
    "        ALTER TABLE dim_products \n",
    "        ALTER COLUMN DescriptionLength SET DATA TYPE INT;\n",
    "    '''\n",
    ")\n",
    "\n",
    "ddb.sql(\n",
    "    '''\n",
    "        ALTER TABLE dim_products \n",
    "        ALTER COLUMN ProductPhotosQty SET DATA TYPE INT;\n",
    "    '''\n",
    ")\n",
    "\n",
    "ddb.sql(\n",
    "    '''\n",
    "        ALTER TABLE dim_products \n",
    "        ALTER COLUMN ProductWeightInG SET DATA TYPE INT;\n",
    "    '''\n",
    ")\n",
    "\n",
    "ddb.sql(\n",
    "    '''\n",
    "        ALTER TABLE dim_products \n",
    "        ALTER COLUMN ProductLengthCM SET DATA TYPE INT;\n",
    "    '''\n",
    ")\n",
    "\n",
    "ddb.sql(\n",
    "    '''\n",
    "        ALTER TABLE dim_products \n",
    "        ALTER COLUMN ProductHeightCM SET DATA TYPE INT;\n",
    "    '''\n",
    ")\n",
    "\n",
    "ddb.sql(\n",
    "    '''\n",
    "        ALTER TABLE dim_products \n",
    "        ALTER COLUMN ProductWidthCM SET DATA TYPE INT;\n",
    "    '''\n",
    ")"
   ]
  },
  {
   "cell_type": "code",
   "execution_count": 24,
   "id": "221c6b30-308e-4bb6-9ab4-f1ac80517876",
   "metadata": {},
   "outputs": [
    {
     "name": "stdout",
     "output_type": "stream",
     "text": [
      "Data successfully exported to /Users/macintoshcider/Documents/Programming/Python/ETL/climate-commerce/analytics/dim_products.csv\n"
     ]
    }
   ],
   "source": [
    "# Define the output directory and ensure it exists\n",
    "output_dir = \"/Users/macintoshcider/Documents/Programming/Python/ETL/climate-commerce/analytics\"\n",
    "output_file = os.path.join(output_dir, \"dim_products.csv\")\n",
    "ddb.execute(\n",
    "    f\"\"\"\n",
    "        COPY dim_products TO '{output_file}' (FORMAT CSV, HEADER);\n",
    "    \"\"\"\n",
    ")\n",
    "print(f\"Data successfully exported to {output_file}\")"
   ]
  },
  {
   "cell_type": "code",
   "execution_count": 26,
   "id": "150ae3bb-a3d5-4c69-8107-08a0e3eb4625",
   "metadata": {},
   "outputs": [],
   "source": [
    "# finally close the connection instance \n",
    "ddb.close()"
   ]
  },
  {
   "cell_type": "code",
   "execution_count": null,
   "id": "0bf309e9-ec89-41d4-8b03-8b775634e49d",
   "metadata": {},
   "outputs": [],
   "source": []
  }
 ],
 "metadata": {
  "kernelspec": {
   "display_name": "Python 3 (ipykernel)",
   "language": "python",
   "name": "python3"
  },
  "language_info": {
   "codemirror_mode": {
    "name": "ipython",
    "version": 3
   },
   "file_extension": ".py",
   "mimetype": "text/x-python",
   "name": "python",
   "nbconvert_exporter": "python",
   "pygments_lexer": "ipython3",
   "version": "3.11.9"
  }
 },
 "nbformat": 4,
 "nbformat_minor": 5
}

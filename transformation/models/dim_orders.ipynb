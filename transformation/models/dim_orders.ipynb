{
 "cells": [
  {
   "cell_type": "code",
   "execution_count": 1,
   "id": "627f1224-5c49-4188-b215-7c0275a5ffae",
   "metadata": {},
   "outputs": [],
   "source": [
    "import os \n",
    "import duckdb \n",
    "from dotenv import load_dotenv"
   ]
  },
  {
   "cell_type": "code",
   "execution_count": 2,
   "id": "73273769-eba2-47ed-988c-6c966db5bbf7",
   "metadata": {},
   "outputs": [],
   "source": [
    "# instantiating the dotenv to access all env's \n",
    "load_dotenv()\n",
    "\n",
    "# setting up the paths needed \n",
    "base_path = os.getenv('base_path')\n",
    "database = os.getenv('database_path')"
   ]
  },
  {
   "cell_type": "code",
   "execution_count": 3,
   "id": "dc451674-296a-408f-bcd5-7e0213b6b037",
   "metadata": {},
   "outputs": [],
   "source": [
    "# setting up the database path \n",
    "database_path = f\"{database}/database.db\"\n",
    "\n",
    "# load the database file \n",
    "ddb = duckdb.connect(database_path)"
   ]
  },
  {
   "cell_type": "code",
   "execution_count": 4,
   "id": "037f59ea-d098-45f7-b0ae-58bb477c1b14",
   "metadata": {},
   "outputs": [
    {
     "data": {
      "text/plain": [
       "<duckdb.duckdb.DuckDBPyConnection at 0x105ea5eb0>"
      ]
     },
     "execution_count": 4,
     "metadata": {},
     "output_type": "execute_result"
    }
   ],
   "source": [
    "# creatiing a view for order data \n",
    "ddb.execute(\n",
    "    f'''\n",
    "        CREATE VIEW IF NOT EXISTS view_orders_data AS \n",
    "        SELECT *\n",
    "        FROM read_csv_auto('{base_path}/datasets/olist_orders_dataset.csv');\n",
    "    '''\n",
    ")"
   ]
  },
  {
   "cell_type": "code",
   "execution_count": 5,
   "id": "38419f9c-b2cf-49bc-a91d-b369d6dff7a6",
   "metadata": {},
   "outputs": [
    {
     "data": {
      "text/plain": [
       "<duckdb.duckdb.DuckDBPyConnection at 0x105ea5eb0>"
      ]
     },
     "execution_count": 5,
     "metadata": {},
     "output_type": "execute_result"
    }
   ],
   "source": [
    "# ingesting or creating the dim_orders and its relationships \n",
    "ddb.execute(\n",
    "    '''\n",
    "        CREATE TABLE IF NOT EXISTS dim_orders AS \n",
    "        SELECT \n",
    "            order_id,\n",
    "            order_status,\n",
    "            order_approved_at,\n",
    "            order_delivered_carrier_date,\n",
    "            order_delivered_customer_date,\n",
    "            order_estimated_delivery_date\n",
    "        FROM view_orders_data;\n",
    "    '''\n",
    ")"
   ]
  },
  {
   "cell_type": "code",
   "execution_count": 6,
   "id": "ae680431-aba6-4057-b091-d22524238217",
   "metadata": {},
   "outputs": [],
   "source": [
    "# renaming the columns\n",
    "ddb.sql(\n",
    "    '''\n",
    "        ALTER TABLE dim_orders \n",
    "        RENAME order_id TO OrderId;\n",
    "    '''\n",
    ")\n",
    "\n",
    "ddb.sql(\n",
    "    '''\n",
    "        ALTER TABLE dim_orders \n",
    "        RENAME order_status TO OrderStatus;\n",
    "    '''\n",
    ")\n",
    "\n",
    "ddb.sql(\n",
    "    '''\n",
    "        ALTER TABLE dim_orders \n",
    "        RENAME order_approved_at TO ApprovedAt;\n",
    "    '''\n",
    ")\n",
    "\n",
    "ddb.sql(\n",
    "    '''\n",
    "        ALTER TABLE dim_orders \n",
    "        RENAME order_delivered_carrier_date TO DeliveredCarrierDate;\n",
    "    '''\n",
    ")\n",
    "\n",
    "ddb.sql(\n",
    "    '''\n",
    "        ALTER TABLE dim_orders \n",
    "        RENAME order_delivered_customer_date TO DeliveredCustomerDate;\n",
    "    '''\n",
    ")\n",
    "\n",
    "ddb.sql(\n",
    "    '''\n",
    "        ALTER TABLE dim_orders \n",
    "        RENAME order_estimated_delivery_date TO EstimatedDelieryDate;\n",
    "    '''\n",
    ")"
   ]
  },
  {
   "cell_type": "code",
   "execution_count": 7,
   "id": "2606e775-6911-46ef-8c53-c07ac3d54aaf",
   "metadata": {},
   "outputs": [
    {
     "data": {
      "text/plain": [
       "┌───────────────────────┬───────────┐\n",
       "│      column_name      │ data_type │\n",
       "│        varchar        │  varchar  │\n",
       "├───────────────────────┼───────────┤\n",
       "│ OrderId               │ VARCHAR   │\n",
       "│ OrderStatus           │ VARCHAR   │\n",
       "│ ApprovedAt            │ TIMESTAMP │\n",
       "│ DeliveredCarrierDate  │ TIMESTAMP │\n",
       "│ DeliveredCustomerDate │ TIMESTAMP │\n",
       "│ EstimatedDelieryDate  │ TIMESTAMP │\n",
       "└───────────────────────┴───────────┘"
      ]
     },
     "execution_count": 7,
     "metadata": {},
     "output_type": "execute_result"
    }
   ],
   "source": [
    "# Checking data types of every column\n",
    "ddb.sql(\n",
    "    '''\n",
    "        SELECT column_name, data_type\n",
    "        FROM information_schema.columns\n",
    "        WHERE table_name = 'dim_orders';\n",
    "    '''\n",
    ")"
   ]
  },
  {
   "cell_type": "code",
   "execution_count": 8,
   "id": "fa1a6c09-4a93-404b-a796-b2d6a5a832b3",
   "metadata": {},
   "outputs": [
    {
     "data": {
      "text/plain": [
       "┌────────────┬─────────┬─────────────┬────────────┬──────────────────────┬───────────────────────┬──────────────────────┐\n",
       "│ total_rows │ OrderId │ OrderStatus │ ApprovedAt │ DeliveredCarrierDate │ DeliveredCustomerDate │ EstimatedDelieryDate │\n",
       "│   int64    │  int64  │    int64    │   int64    │        int64         │         int64         │        int64         │\n",
       "├────────────┼─────────┼─────────────┼────────────┼──────────────────────┼───────────────────────┼──────────────────────┤\n",
       "│      99441 │       0 │           0 │        160 │                 1783 │                  2965 │                    0 │\n",
       "└────────────┴─────────┴─────────────┴────────────┴──────────────────────┴───────────────────────┴──────────────────────┘"
      ]
     },
     "execution_count": 8,
     "metadata": {},
     "output_type": "execute_result"
    }
   ],
   "source": [
    "# Checking null values in dim_orders table \n",
    "ddb.sql(\n",
    "    '''\n",
    "        SELECT\n",
    "            COUNT(*) AS total_rows,\n",
    "            COUNT(CASE WHEN OrderId IS NULL THEN 1 END) AS OrderId,\n",
    "            COUNT(CASE WHEN OrderStatus IS NULL THEN 1 END) AS OrderStatus,\n",
    "            COUNT(CASE WHEN ApprovedAt IS NULL THEN 1 END) AS ApprovedAt,\n",
    "            COUNT(CASE WHEN DeliveredCarrierDate IS NULL THEN 1 END) AS DeliveredCarrierDate,\n",
    "            COUNT(CASE WHEN DeliveredCustomerDate IS NULL THEN 1 END) AS DeliveredCustomerDate,\n",
    "            COUNT(CASE WHEN EstimatedDelieryDate IS NULL THEN 1 END) AS EstimatedDelieryDate,\n",
    "        FROM \n",
    "            dim_orders;\n",
    "    '''\n",
    ")"
   ]
  },
  {
   "cell_type": "code",
   "execution_count": 10,
   "id": "2dac01ad-22a7-4822-b71e-df5818ea11d3",
   "metadata": {},
   "outputs": [],
   "source": [
    "# will retain nulls as it holds meaning to the specific columns where it became null."
   ]
  },
  {
   "cell_type": "code",
   "execution_count": 11,
   "id": "ff951546-96bf-4ab5-9591-d361190f440e",
   "metadata": {},
   "outputs": [
    {
     "name": "stdout",
     "output_type": "stream",
     "text": [
      "Data successfully exported to /Users/macintoshcider/Documents/Programming/Python/ETL/climate-commerce/analytics/dim_orders.csv\n"
     ]
    }
   ],
   "source": [
    "# Define the output directory and ensure it exists\n",
    "output_dir = \"/Users/macintoshcider/Documents/Programming/Python/ETL/climate-commerce/analytics\"\n",
    "output_file = os.path.join(output_dir, \"dim_orders.csv\")\n",
    "ddb.execute(\n",
    "    f\"\"\"\n",
    "        COPY dim_orders TO '{output_file}' (FORMAT CSV, HEADER);\n",
    "    \"\"\"\n",
    ")\n",
    "print(f\"Data successfully exported to {output_file}\")"
   ]
  },
  {
   "cell_type": "code",
   "execution_count": 12,
   "id": "1773910f-bfaf-48ca-92fb-efe38c5c473a",
   "metadata": {},
   "outputs": [],
   "source": [
    "# finally close the connection instance \n",
    "ddb.close()"
   ]
  },
  {
   "cell_type": "code",
   "execution_count": null,
   "id": "c882d16b-34d1-4906-aca7-98e5080a1b41",
   "metadata": {},
   "outputs": [],
   "source": []
  }
 ],
 "metadata": {
  "kernelspec": {
   "display_name": "Python 3 (ipykernel)",
   "language": "python",
   "name": "python3"
  },
  "language_info": {
   "codemirror_mode": {
    "name": "ipython",
    "version": 3
   },
   "file_extension": ".py",
   "mimetype": "text/x-python",
   "name": "python",
   "nbconvert_exporter": "python",
   "pygments_lexer": "ipython3",
   "version": "3.11.9"
  }
 },
 "nbformat": 4,
 "nbformat_minor": 5
}
